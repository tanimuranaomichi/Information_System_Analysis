{
 "cells": [
  {
   "cell_type": "markdown",
   "metadata": {},
   "source": [
    "## Testing the environment installation / プログラミング環境インストールを確認\n",
    "\n",
    "To test: From the menu above choose `Cell -> Run All`.\n",
    "\n",
    "テストを実行：上のメニューから`Cell -> Run All`を実行してください。"
   ]
  },
  {
   "cell_type": "code",
   "execution_count": 1,
   "metadata": {},
   "outputs": [
    {
     "name": "stdout",
     "output_type": "stream",
     "text": [
      "\n",
      "\n",
      "-------\n",
      "All OK!\n",
      "-------\n"
     ]
    }
   ],
   "source": [
    "import numpy\n",
    "import matplotlib\n",
    "import sklearn\n",
    "import PIL\n",
    "import cv2\n",
    "import tensorflow\n",
    "\n",
    "print(\"\\n\\n-------\\nAll OK!\\n-------\")"
   ]
  },
  {
   "cell_type": "markdown",
   "metadata": {},
   "source": [
    "⇑⇑⇑⇑⇑\n",
    "\n",
    "If above you got the following message the environment installation was sucesfull!\n",
    "<br>\n",
    "以上は次のメッセージが現れたなら、環境がインストールされています。\n",
    "\n",
    "```\n",
    "-------\n",
    "All OK!\n",
    "-------\n",
    "```\n",
    "\n",
    "If you did not get the message you are missing some necesary Python packages.\n",
    "<br>\n",
    "メッセージが出てないなら、必要なPythonパッケージがインストルされていません。"
   ]
  },
  {
   "cell_type": "code",
   "execution_count": null,
   "metadata": {},
   "outputs": [],
   "source": []
  }
 ],
 "metadata": {
  "kernelspec": {
   "display_name": "Python 3",
   "language": "python",
   "name": "python3"
  },
  "language_info": {
   "codemirror_mode": {
    "name": "ipython",
    "version": 3
   },
   "file_extension": ".py",
   "mimetype": "text/x-python",
   "name": "python",
   "nbconvert_exporter": "python",
   "pygments_lexer": "ipython3",
   "version": "3.8.5"
  }
 },
 "nbformat": 4,
 "nbformat_minor": 2
}
