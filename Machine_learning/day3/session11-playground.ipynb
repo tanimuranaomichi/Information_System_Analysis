{
 "cells": [
  {
   "cell_type": "markdown",
   "metadata": {},
   "source": [
    "## Session11 - playground (optional)"
   ]
  },
  {
   "cell_type": "code",
   "execution_count": 1,
   "metadata": {},
   "outputs": [],
   "source": [
    "# Usual imports\n",
    "import numpy as np\n",
    "import matplotlib as mpl\n",
    "import matplotlib.pyplot as plt\n",
    "    \n",
    "# Network building and training\n",
    "from tensorflow.keras.layers import Input, Conv2D, MaxPooling2D, Flatten, Dense, Dropout\n",
    "from tensorflow.keras.models import Model\n",
    "from tensorflow.keras.optimizers import Adam\n",
    "from tensorflow.keras.callbacks import ModelCheckpoint, EarlyStopping\n",
    "from tensorflow.keras.utils import to_categorical"
   ]
  },
  {
   "cell_type": "markdown",
   "metadata": {},
   "source": [
    "### Load and prepare the dataset / データを読み込んで準備する"
   ]
  },
  {
   "cell_type": "code",
   "execution_count": 2,
   "metadata": {},
   "outputs": [
    {
     "name": "stdout",
     "output_type": "stream",
     "text": [
      "Training set size: (35000, 28, 28, 1)\n",
      "Testing set size: (35000, 28, 28, 1)\n"
     ]
    }
   ],
   "source": [
    "from mnist_loader import MNISTImageLoader\n",
    "mnist_image_loader = MNISTImageLoader(43)\n",
    "X, y = mnist_image_loader.samples(70000)\n",
    "\n",
    "from sklearn.model_selection import train_test_split\n",
    "X_train, X_test, y_train, y_test  = train_test_split(X, y, test_size=0.5)\n",
    "\n",
    "# Limit the values in [0, 1]\n",
    "X_train = X_train / 255.0\n",
    "X_test = X_test / 255.0\n",
    "\n",
    "print(\"Training set size:\", X_train.shape)\n",
    "print(\"Testing set size:\", X_test.shape)"
   ]
  },
  {
   "cell_type": "markdown",
   "metadata": {},
   "source": [
    "<div style=\"background-color: #FFDDBB; padding: 10px;\">\n",
    "<b>REMINDER</b>: If you are getting strange errors when executing code with neural networks, make sure that you stopped or restarted the kernels in all other notebooks!\n",
    "    \n",
    "<b>注意</b>：ニューラルネットワークのコードを実行しているときに見知らぬエラーが発生した場合は、他のすべてのノートブックでカーネルを停止または再起動したかを確認してください！\n",
    "</div>\n"
   ]
  },
  {
   "cell_type": "markdown",
   "metadata": {},
   "source": [
    "## OPTIONAL 1\n",
    "Create a CNN to recognize MNIST digits. You can re-use the example CNN.\n",
    "<br>\n",
    "You should name your network `network`.\n",
    "\n",
    "\n",
    "MNISTの手書き数字を認識するCNNを作成してください。mainノートブックのサンプルCNNを再利用しても構いません。\n",
    "<br>\n",
    "ネットワークの変数の名前は`network`にしてください。"
   ]
  },
  {
   "cell_type": "code",
   "execution_count": 3,
   "metadata": {},
   "outputs": [
    {
     "name": "stdout",
     "output_type": "stream",
     "text": [
      "Model: \"CNN_classification\"\n",
      "_________________________________________________________________\n",
      "Layer (type)                 Output Shape              Param #   \n",
      "=================================================================\n",
      "input (InputLayer)           [(None, 28, 28, 1)]       0         \n",
      "_________________________________________________________________\n",
      "conv1 (Conv2D)               (None, 26, 26, 32)        320       \n",
      "_________________________________________________________________\n",
      "conv2 (Conv2D)               (None, 24, 24, 64)        18496     \n",
      "_________________________________________________________________\n",
      "pool (MaxPooling2D)          (None, 12, 12, 64)        0         \n",
      "_________________________________________________________________\n",
      "dropout (Dropout)            (None, 12, 12, 64)        0         \n",
      "_________________________________________________________________\n",
      "flatten (Flatten)            (None, 9216)              0         \n",
      "_________________________________________________________________\n",
      "fc1 (Dense)                  (None, 128)               1179776   \n",
      "_________________________________________________________________\n",
      "dropout_1 (Dropout)          (None, 128)               0         \n",
      "_________________________________________________________________\n",
      "fc2 (Dense)                  (None, 10)                1290      \n",
      "=================================================================\n",
      "Total params: 1,199,882\n",
      "Trainable params: 1,199,882\n",
      "Non-trainable params: 0\n",
      "_________________________________________________________________\n"
     ]
    }
   ],
   "source": [
    "input_shape = X_train[0].shape\n",
    "img_input = Input(shape = input_shape, name='input')\n",
    "conv1 = Conv2D(32, kernel_size=(3, 3), activation='relu', name='conv1')(img_input)\n",
    "conv2 = Conv2D(64, (3, 3), activation='relu', name='conv2')(conv1)\n",
    "pool = MaxPooling2D(pool_size=(2, 2), name='pool')(conv2)\n",
    "dp1 = Dropout(0.25)(pool)\n",
    "fl = Flatten()(dp1)\n",
    "fc1 = Dense(128, activation='relu', name=\"fc1\")(fl)\n",
    "dp2 = Dropout(0.5)(fc1)\n",
    "fc2 = Dense(10, activation='softmax', name=\"fc2\")(dp2)\n",
    "network = Model(img_input, fc2, name='CNN_classification')\n",
    "network.summary()"
   ]
  },
  {
   "cell_type": "markdown",
   "metadata": {},
   "source": [
    "## OPTIONAL 2\n",
    "- Split the data into a training set and a testing set. \n",
    "- Train again your CNN, using the testing set as validation data\n",
    "- Plot the evolution of the loss functions\n",
    "- Test the performance on the testing set (confusion matrix and accuracy)\n",
    "\n",
    "\n",
    "- MNISTデータセットをトレーニングセットとテストセットに分割する\n",
    "- テストセットを検証データ（`validation_data`引数）として使用し、CNNを再度トレーニングする\n",
    "- 損失関数の進化をプロットする\n",
    "- テストセットでパフォーマンスを確認する（混合行列と精度）"
   ]
  },
  {
   "cell_type": "code",
   "execution_count": 4,
   "metadata": {
    "scrolled": true
   },
   "outputs": [
    {
     "name": "stdout",
     "output_type": "stream",
     "text": [
      "Epoch 1/20\n",
      "350/350 [==============================] - 25s 72ms/step - loss: 0.4667 - acc: 0.8572 - val_loss: 0.1173 - val_acc: 0.9644\n",
      "Epoch 2/20\n",
      "350/350 [==============================] - 33s 95ms/step - loss: 0.2250 - acc: 0.9325 - val_loss: 0.0835 - val_acc: 0.9745\n",
      "Epoch 3/20\n",
      "350/350 [==============================] - 40s 115ms/step - loss: 0.1879 - acc: 0.9430 - val_loss: 0.0840 - val_acc: 0.9738\n",
      "Epoch 4/20\n",
      "350/350 [==============================] - 41s 117ms/step - loss: 0.1664 - acc: 0.9493 - val_loss: 0.0735 - val_acc: 0.9772\n",
      "Epoch 5/20\n",
      "350/350 [==============================] - 45s 128ms/step - loss: 0.1628 - acc: 0.9518 - val_loss: 0.0711 - val_acc: 0.9777\n",
      "Epoch 6/20\n",
      "350/350 [==============================] - 49s 139ms/step - loss: 0.1556 - acc: 0.9527 - val_loss: 0.0681 - val_acc: 0.9782\n",
      "Epoch 7/20\n",
      "350/350 [==============================] - 54s 155ms/step - loss: 0.1435 - acc: 0.9575 - val_loss: 0.0611 - val_acc: 0.9812\n",
      "Epoch 8/20\n",
      "350/350 [==============================] - 57s 163ms/step - loss: 0.1384 - acc: 0.9579 - val_loss: 0.0642 - val_acc: 0.9815\n",
      "Epoch 9/20\n",
      "350/350 [==============================] - 56s 159ms/step - loss: 0.1413 - acc: 0.9580 - val_loss: 0.0615 - val_acc: 0.9815\n",
      "Epoch 10/20\n",
      "350/350 [==============================] - 63s 179ms/step - loss: 0.1342 - acc: 0.9595 - val_loss: 0.0757 - val_acc: 0.9775\n",
      "Epoch 11/20\n",
      "350/350 [==============================] - 48s 138ms/step - loss: 0.1339 - acc: 0.9595 - val_loss: 0.0618 - val_acc: 0.9817\n",
      "Epoch 12/20\n",
      "350/350 [==============================] - 45s 130ms/step - loss: 0.1340 - acc: 0.9598 - val_loss: 0.0618 - val_acc: 0.9812\n",
      "Epoch 13/20\n",
      "350/350 [==============================] - 47s 134ms/step - loss: 0.1313 - acc: 0.9609 - val_loss: 0.0639 - val_acc: 0.98071s - loss: 0.\n",
      "Epoch 14/20\n",
      "350/350 [==============================] - 48s 137ms/step - loss: 0.1359 - acc: 0.9591 - val_loss: 0.0607 - val_acc: 0.9827\n",
      "Epoch 15/20\n",
      "350/350 [==============================] - 46s 131ms/step - loss: 0.1278 - acc: 0.9612 - val_loss: 0.0544 - val_acc: 0.9839\n",
      "Epoch 16/20\n",
      "350/350 [==============================] - 44s 127ms/step - loss: 0.1244 - acc: 0.9617 - val_loss: 0.0666 - val_acc: 0.9817\n",
      "Epoch 17/20\n",
      "350/350 [==============================] - 44s 125ms/step - loss: 0.1233 - acc: 0.9637 - val_loss: 0.0678 - val_acc: 0.9809.1227 - acc - ETA: 1s - loss:\n",
      "Epoch 18/20\n",
      "350/350 [==============================] - 45s 127ms/step - loss: 0.1301 - acc: 0.9611 - val_loss: 0.0652 - val_acc: 0.9801\n",
      "Epoch 19/20\n",
      "350/350 [==============================] - 44s 127ms/step - loss: 0.1315 - acc: 0.9591 - val_loss: 0.0572 - val_acc: 0.9824\n",
      "Epoch 20/20\n",
      "350/350 [==============================] - 45s 128ms/step - loss: 0.1268 - acc: 0.9624 - val_loss: 0.0601 - val_acc: 0.9813\n"
     ]
    }
   ],
   "source": [
    "# MNISTデータセットをトレーニングセットとテストセットに分割する（すでに上でやっている）\n",
    "# テストセットを検証データ（validation_data引数）として使用し、CNNを再度トレーニングする\n",
    "network.compile(loss='categorical_crossentropy', optimizer=Adam(lr=0.01), metrics=['acc'])\n",
    "y_train_one_hot = to_categorical(y_train)\n",
    "y_test_one_hot = to_categorical(y_test)\n",
    "H = network.fit(X_train, y_train_one_hot, batch_size=100, epochs=20, validation_data=(X_test, y_test_one_hot))"
   ]
  },
  {
   "cell_type": "code",
   "execution_count": 5,
   "metadata": {},
   "outputs": [
    {
     "data": {
      "image/png": "[encoded data removed]",
      "text/plain": [
       "<Figure size 432x288 with 1 Axes>"
      ]
     },
     "metadata": {
      "needs_background": "light"
     },
     "output_type": "display_data"
    }
   ],
   "source": [
    "# 損失関数の進化をプロットする\n",
    "plt.plot(H.history['loss'], 'o-',label=\"loss\")\n",
    "plt.plot(H.history['val_loss'], 'o-', label=\"val_loss\")\n",
    "plt.xlabel(\"epochs\")\n",
    "plt.ylabel(\"loss\")\n",
    "plt.title(\"loss vs epochs\")\n",
    "plt.legend();\n"
   ]
  },
  {
   "cell_type": "code",
   "execution_count": 11,
   "metadata": {},
   "outputs": [
    {
     "name": "stdout",
     "output_type": "stream",
     "text": [
      "Accuracy: 0.98\n"
     ]
    }
   ],
   "source": [
    "# テストセットでパフォーマンスを確認する（混合行列と精度）\n",
    "from sklearn.metrics import confusion_matrix, accuracy_score\n",
    "y_pred_one_hot = network.predict(X_test)\n",
    "y_pred = np.argmax(y_pred_one_hot, axis=1)\n",
    "\n",
    "CM = confusion_matrix(y_test, y_pred)\n",
    "A = np.sum(np.diag(CM)) / np.sum(CM)\n",
    "print(\"Accuracy: {:.02f}\".format(A))"
   ]
  },
  {
   "cell_type": "markdown",
   "metadata": {},
   "source": [
    "## OPTIONAL 3\n",
    "- Test hand written digit recognition by running the next cell\n",
    "- Evaluate the performance of the network\n",
    "\n",
    "\n",
    "- 次のセルを実行して手書き数字の認識をテストする\n",
    "- ネットワークのパフォーマンスを評価する"
   ]
  },
  {
   "cell_type": "code",
   "execution_count": 13,
   "metadata": {},
   "outputs": [
    {
     "data": {
      "application/vnd.jupyter.widget-view+json": {
       "model_id": "710b19dd18f043b5a6f74c2ccb268b1f",
       "version_major": 2,
       "version_minor": 0
      },
      "text/plain": [
       "HBox(children=(DrawingPad(data=[[], [], []]), Button(description='Clear', style=ButtonStyle(), tooltip='Click …"
      ]
     },
     "metadata": {},
     "output_type": "display_data"
    }
   ],
   "source": [
    "from digit_classifier_widget import digit_classifier_widget\n",
    "    \n",
    "def run_classifier(X):\n",
    "    y_pred_one_hot = network.predict(X)\n",
    "    y_prediction = np.argmax(y_pred_one_hot)\n",
    "    return y_prediction\n",
    "    \n",
    "digit_classifier_widget(run_classifier, image_input=True)"
   ]
  },
  {
   "cell_type": "markdown",
   "metadata": {},
   "source": [
    "How does the preformance compare to the fully connected neural network?\n",
    "<br>\n",
    "Write your impressions in the cell below. \n",
    "\n",
    "全結合に比べて精度はどうでしょうか？\n",
    "<br>\n",
    "感想を下のセルに書いてください。"
   ]
  },
  {
   "cell_type": "markdown",
   "metadata": {},
   "source": [
    "#### WRITE ANSWER HERE\n",
    "\n",
    "以下は、各数字を５回ずつ書いた際の精度を示す表である。\n",
    "\n",
    "||  ０ |  1  | 2 | 3 | 4 | 5 | 6 | 7 | 8 | 9 |\n",
    "| ---- | ---- | ---- | ---- | ---- | ---- | ---- | ---- | ---- | ---- | ---- |\n",
    "| ACC |1.0 | 1.0 | 1.0 | 0.8 | 1.0 | 0.6 | 0.4 | 0.6 | 0.8 | 0.2 |\n",
    "\n",
    "すべての数字において、全結合以上の精度が得られた。"
   ]
  }
 ],
 "metadata": {
  "kernelspec": {
   "display_name": "Python 3",
   "language": "python",
   "name": "python3"
  },
  "language_info": {
   "codemirror_mode": {
    "name": "ipython",
    "version": 3
   },
   "file_extension": ".py",
   "mimetype": "text/x-python",
   "name": "python",
   "nbconvert_exporter": "python",
   "pygments_lexer": "ipython3",
   "version": "3.8.5"
  }
 },
 "nbformat": 4,
 "nbformat_minor": 2
}
