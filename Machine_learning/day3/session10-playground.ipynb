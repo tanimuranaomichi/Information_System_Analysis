{
 "cells": [
  {
   "cell_type": "markdown",
   "metadata": {},
   "source": [
    "## Session10 - playground"
   ]
  },
  {
   "cell_type": "markdown",
   "metadata": {},
   "source": [
    "### Whole training from the beginning / 初めからのトレーニング\n",
    "\n",
    "Let's first run the whole network training process from the start.\n",
    "\n",
    "まずは、最初からネットワークトレーニングを行います。"
   ]
  },
  {
   "cell_type": "markdown",
   "metadata": {},
   "source": [
    "<div style=\"background-color: #FFDDBB; padding: 10px;\">\n",
    "<b>REMINDER</b>: If you are getting strange errors when executing code with neural networks, make sure that you stopped or restarted the kernels in all other notebooks!\n",
    "    \n",
    "<b>注意</b>：ニューラルネットワークのコードを実行しているときに見知らぬエラーが発生した場合は、他のすべてのノートブックでカーネルを停止または再起動したかを確認してください！\n",
    "</div>\n"
   ]
  },
  {
   "cell_type": "markdown",
   "metadata": {},
   "source": [
    "#### Imports"
   ]
  },
  {
   "cell_type": "code",
   "execution_count": 1,
   "metadata": {},
   "outputs": [],
   "source": [
    "import numpy as np\n",
    "import matplotlib as mpl\n",
    "import matplotlib.pyplot as plt\n",
    "\n",
    "# Import Tensorflow \n",
    "import tensorflow as tf\n",
    "\n",
    "# Import Keras stuff\n",
    "from tensorflow.keras.layers import Input, Conv2D, MaxPooling2D, Flatten, Dense, Dropout, LSTM\n",
    "from tensorflow.keras.models import Model, load_model\n",
    "from tensorflow.keras.optimizers import Adam\n",
    "from tensorflow.keras.callbacks import ModelCheckpoint, EarlyStopping\n",
    "from tensorflow.keras.utils import to_categorical"
   ]
  },
  {
   "cell_type": "markdown",
   "metadata": {},
   "source": [
    "#### Load MNIST and create the training and testing sets"
   ]
  },
  {
   "cell_type": "code",
   "execution_count": 2,
   "metadata": {},
   "outputs": [],
   "source": [
    "from mnist_loader import MNISTVectorLoader\n",
    "mnist_vector_loader = MNISTVectorLoader(43)\n",
    "X, y = mnist_vector_loader.samples(70000)\n",
    "\n",
    "from sklearn.model_selection import train_test_split\n",
    "X_train, X_test, y_train, y_test  = train_test_split(X, y, test_size=0.5)\n",
    "\n",
    "from sklearn.preprocessing import StandardScaler\n",
    "scaler = StandardScaler()\n",
    "scaler.fit(X_train)\n",
    "X_train = scaler.transform(X_train)\n",
    "X_test = scaler.transform(X_test)"
   ]
  },
  {
   "cell_type": "markdown",
   "metadata": {},
   "source": [
    "#### Define the network\n",
    "<a id='define_the_network'></a>"
   ]
  },
  {
   "cell_type": "code",
   "execution_count": 7,
   "metadata": {},
   "outputs": [
    {
     "name": "stdout",
     "output_type": "stream",
     "text": [
      "Model: \"classification\"\n",
      "_________________________________________________________________\n",
      "Layer (type)                 Output Shape              Param #   \n",
      "=================================================================\n",
      "input (InputLayer)           [(None, 784)]             0         \n",
      "_________________________________________________________________\n",
      "fc1 (Dense)                  (None, 128)               100480    \n",
      "_________________________________________________________________\n",
      "fc2 (Dense)                  (None, 128)               16512     \n",
      "_________________________________________________________________\n",
      "output (Dense)               (None, 10)                1290      \n",
      "=================================================================\n",
      "Total params: 118,282\n",
      "Trainable params: 118,282\n",
      "Non-trainable params: 0\n",
      "_________________________________________________________________\n"
     ]
    }
   ],
   "source": [
    "input_shape = X_train[0].shape\n",
    "vector_input = Input(shape = input_shape, name='input')\n",
    "\n",
    "fc1 = Dense(128, activation='relu', name='fc1')(vector_input)\n",
    "\n",
    "fc2 = Dense(128, activation='relu', name='fc2')(fc1)\n",
    "\n",
    "output = Dense(10, activation='softmax', name='output')(fc2)\n",
    "\n",
    "network = Model(vector_input, output, name='classification')\n",
    "\n",
    "network.summary()\n",
    "\n",
    "network.compile(loss='categorical_crossentropy', optimizer=Adam(lr=0.01), metrics=['acc'])"
   ]
  },
  {
   "cell_type": "markdown",
   "metadata": {},
   "source": [
    "#### Train the network"
   ]
  },
  {
   "cell_type": "code",
   "execution_count": 4,
   "metadata": {},
   "outputs": [],
   "source": [
    "y_train_one_hot = to_categorical(y_train)\n",
    "y_test_one_hot = to_categorical(y_test)"
   ]
  },
  {
   "cell_type": "code",
   "execution_count": 5,
   "metadata": {},
   "outputs": [
    {
     "name": "stdout",
     "output_type": "stream",
     "text": [
      "Epoch 1/20\n",
      "350/350 [==============================] - 1s 2ms/step - loss: 0.3544 - acc: 0.9032 - val_loss: 0.2918 - val_acc: 0.9173\n",
      "Epoch 2/20\n",
      "350/350 [==============================] - 1s 2ms/step - loss: 0.2368 - acc: 0.9351 - val_loss: 0.3236 - val_acc: 0.9269\n",
      "Epoch 3/20\n",
      "350/350 [==============================] - 1s 2ms/step - loss: 0.2203 - acc: 0.9438 - val_loss: 0.2863 - val_acc: 0.9370\n",
      "Epoch 4/20\n",
      "350/350 [==============================] - 1s 2ms/step - loss: 0.1976 - acc: 0.9520 - val_loss: 0.2458 - val_acc: 0.9404\n",
      "Epoch 5/20\n",
      "350/350 [==============================] - 1s 2ms/step - loss: 0.1890 - acc: 0.9526 - val_loss: 0.2947 - val_acc: 0.9403\n",
      "Epoch 6/20\n",
      "350/350 [==============================] - 1s 2ms/step - loss: 0.1688 - acc: 0.9576 - val_loss: 0.3126 - val_acc: 0.9433\n",
      "Epoch 7/20\n",
      "350/350 [==============================] - 1s 2ms/step - loss: 0.1612 - acc: 0.9583 - val_loss: 0.2897 - val_acc: 0.9414\n",
      "Epoch 8/20\n",
      "350/350 [==============================] - 1s 2ms/step - loss: 0.1780 - acc: 0.9563 - val_loss: 0.2917 - val_acc: 0.9368\n",
      "Epoch 9/20\n",
      "350/350 [==============================] - 1s 2ms/step - loss: 0.1564 - acc: 0.9615 - val_loss: 0.3261 - val_acc: 0.9403\n",
      "Epoch 10/20\n",
      "350/350 [==============================] - 1s 2ms/step - loss: 0.1784 - acc: 0.9581 - val_loss: 0.3067 - val_acc: 0.9447\n",
      "Epoch 11/20\n",
      "350/350 [==============================] - 1s 2ms/step - loss: 0.1469 - acc: 0.9637 - val_loss: 0.3362 - val_acc: 0.9507\n",
      "Epoch 12/20\n",
      "350/350 [==============================] - 1s 2ms/step - loss: 0.1576 - acc: 0.9621 - val_loss: 0.3356 - val_acc: 0.9484\n",
      "Epoch 13/20\n",
      "350/350 [==============================] - 1s 2ms/step - loss: 0.1587 - acc: 0.9617 - val_loss: 0.3680 - val_acc: 0.9457\n",
      "Epoch 14/20\n",
      "350/350 [==============================] - 1s 2ms/step - loss: 0.1452 - acc: 0.9641 - val_loss: 0.3364 - val_acc: 0.9483\n",
      "Epoch 15/20\n",
      "350/350 [==============================] - 1s 2ms/step - loss: 0.1401 - acc: 0.9638 - val_loss: 0.3574 - val_acc: 0.9433\n",
      "Epoch 16/20\n",
      "350/350 [==============================] - 1s 2ms/step - loss: 0.1262 - acc: 0.9689 - val_loss: 0.4471 - val_acc: 0.9447\n",
      "Epoch 17/20\n",
      "350/350 [==============================] - 1s 2ms/step - loss: 0.1463 - acc: 0.9651 - val_loss: 0.3663 - val_acc: 0.9505\n",
      "Epoch 18/20\n",
      "350/350 [==============================] - 1s 2ms/step - loss: 0.1396 - acc: 0.9668 - val_loss: 0.4279 - val_acc: 0.9397\n",
      "Epoch 19/20\n",
      "350/350 [==============================] - 1s 2ms/step - loss: 0.1684 - acc: 0.9599 - val_loss: 0.3956 - val_acc: 0.9389\n",
      "Epoch 20/20\n",
      "350/350 [==============================] - 1s 2ms/step - loss: 0.1633 - acc: 0.9597 - val_loss: 0.4089 - val_acc: 0.9470\n"
     ]
    }
   ],
   "source": [
    "H = network.fit(X_train, y_train_one_hot,\n",
    "                batch_size=100, epochs=20,\n",
    "                validation_data=(X_test, y_test_one_hot),\n",
    "                verbose=1)"
   ]
  },
  {
   "cell_type": "markdown",
   "metadata": {},
   "source": [
    "## TASK 1\n",
    "Plot the evolution of the losses and accuracies.\n",
    "\n",
    "損失と精度の進化をプロットしてください。"
   ]
  },
  {
   "cell_type": "code",
   "execution_count": 6,
   "metadata": {},
   "outputs": [
    {
     "data": {
      "image/png": "[encoded data removed]",
      "text/plain": [
       "<Figure size 720x288 with 2 Axes>"
      ]
     },
     "metadata": {
      "needs_background": "light"
     },
     "output_type": "display_data"
    }
   ],
   "source": [
    "plt.figure(figsize=(10, 4))\n",
    "\n",
    "plt.subplot(1,2,1)\n",
    "plt.plot(H.history['loss'], 'o-',label=\"loss\")\n",
    "plt.plot(H.history['val_loss'], 'o-', label=\"val_loss\")\n",
    "plt.xlabel(\"epochs\")\n",
    "plt.ylabel(\"loss\")\n",
    "plt.title(\"loss vs epochs\")\n",
    "plt.legend();\n",
    "\n",
    "plt.subplot(1,2,2)\n",
    "plt.plot(H.history['acc'], 'o-', label=\"acc\")\n",
    "plt.plot(H.history['val_acc'], 'o-', label=\"val_acc\")\n",
    "plt.xlabel(\"epochs\")\n",
    "plt.ylabel(\"acc\")\n",
    "plt.title(\"Accuracy vs epochs\")\n",
    "plt.legend();"
   ]
  },
  {
   "cell_type": "markdown",
   "metadata": {},
   "source": [
    "## TASK 2\n",
    "Re-run the training but this time:\n",
    "- Stop the training when `val_acc` the accuracy on the validation set does not grow anymore \n",
    "- Save the model with the best accuracy as `my_best_network.hdf5`\n",
    "\n",
    "トレーニングを再実行してください。今回は\n",
    " - テストセットの精度（`val_acc`）が向上しなくなったら、トレーニングを中断する\n",
    " - モデルを `my_best_network.hdf5`として最高の精度で保存します\n",
    "\n",
    "Note that you have to recreate the network to re-initialize the weights if you want to re-train from scratch.\n",
    "<br>\n",
    "Otherwise the training just updates the current weights.\n",
    "<br>So, you have to re-run the cells from the \"Define the network\" section above to create a new model with fresh weights.\n",
    "\n",
    "注：最初からトレーニングをやり直す場合は、重みを再初期化する必要があります（そうしなければ、トレーニングは現在の重みを更新するだけです）。そのためネットワークを再作成しなければなりません。\n",
    "<br>\n",
    "以上の「Define the network」章からのセルを再実行して、新しい重みを持つ新しいモデルを作成してください。"
   ]
  },
  {
   "cell_type": "markdown",
   "metadata": {},
   "source": [
    "Plot again the evolution of the losses and accuracies.\n",
    "\n",
    "もう一度損失と精度の進化をプロットしてください。"
   ]
  },
  {
   "cell_type": "code",
   "execution_count": 8,
   "metadata": {},
   "outputs": [
    {
     "name": "stdout",
     "output_type": "stream",
     "text": [
      "WARNING:tensorflow:`period` argument is deprecated. Please use `save_freq` to specify the frequency in number of batches seen.\n",
      "Epoch 1/20\n",
      "344/350 [============================>.] - ETA: 0s - loss: 0.3451 - acc: 0.9018\n",
      "Epoch 00001: val_acc improved from -inf to 0.91957, saving model to my_best_network.hdf5\n",
      "350/350 [==============================] - 1s 2ms/step - loss: 0.3436 - acc: 0.9025 - val_loss: 0.2807 - val_acc: 0.9196\n",
      "Epoch 2/20\n",
      "332/350 [===========================>..] - ETA: 0s - loss: 0.2421 - acc: 0.9370\n",
      "Epoch 00002: val_acc improved from 0.91957 to 0.94143, saving model to my_best_network.hdf5\n",
      "350/350 [==============================] - 1s 2ms/step - loss: 0.2402 - acc: 0.9375 - val_loss: 0.2379 - val_acc: 0.9414\n",
      "Epoch 3/20\n",
      "330/350 [===========================>..] - ETA: 0s - loss: 0.1985 - acc: 0.9472\n",
      "Epoch 00003: val_acc improved from 0.94143 to 0.94374, saving model to my_best_network.hdf5\n",
      "350/350 [==============================] - 1s 2ms/step - loss: 0.2017 - acc: 0.9471 - val_loss: 0.2514 - val_acc: 0.9437\n",
      "Epoch 4/20\n",
      "328/350 [===========================>..] - ETA: 0s - loss: 0.1866 - acc: 0.9531\n",
      "Epoch 00004: val_acc improved from 0.94374 to 0.94814, saving model to my_best_network.hdf5\n",
      "350/350 [==============================] - 1s 2ms/step - loss: 0.1852 - acc: 0.9531 - val_loss: 0.2487 - val_acc: 0.9481\n",
      "Epoch 5/20\n",
      "340/350 [============================>.] - ETA: 0s - loss: 0.1728 - acc: 0.9573\n",
      "Epoch 00005: val_acc did not improve from 0.94814\n",
      "350/350 [==============================] - 1s 2ms/step - loss: 0.1734 - acc: 0.9575 - val_loss: 0.3223 - val_acc: 0.9361\n",
      "Epoch 6/20\n",
      "348/350 [============================>.] - ETA: 0s - loss: 0.1790 - acc: 0.9552\n",
      "Epoch 00006: val_acc did not improve from 0.94814\n",
      "350/350 [==============================] - 1s 2ms/step - loss: 0.1786 - acc: 0.9552 - val_loss: 0.3095 - val_acc: 0.9400\n",
      "Epoch 00006: early stopping\n"
     ]
    },
    {
     "data": {
      "image/png": "[encoded data removed]",
      "text/plain": [
       "<Figure size 720x288 with 2 Axes>"
      ]
     },
     "metadata": {
      "needs_background": "light"
     },
     "output_type": "display_data"
    }
   ],
   "source": [
    "# テストセットの精度（val_acc）が向上しなくなったら、トレーニングを中断する\n",
    "early_stopping_cb = EarlyStopping(monitor='val_acc', min_delta=0.001, patience=2, verbose=1, mode='auto')\n",
    "\n",
    "# モデルを my_best_network.hdf5として最高の精度で保存します\n",
    "model_checkpoint_cb = ModelCheckpoint(\"my_best_network.hdf5\", monitor='val_acc', verbose=1, \n",
    "                                      save_best_only=True, save_weights_only=False, mode='auto', period=1)\n",
    "\n",
    "\n",
    "H = network.fit(X_train, y_train_one_hot, batch_size=100, epochs=20, validation_data=(X_test, y_test_one_hot),\n",
    "                callbacks=[early_stopping_cb, model_checkpoint_cb], verbose=1)\n",
    "\n",
    "# もう一度損失と精度の進化をプロットしてください。\n",
    "\n",
    "plt.figure(figsize=(10, 4))\n",
    "\n",
    "plt.subplot(1,2,1)\n",
    "plt.plot(H.history['loss'], 'o-',label=\"loss\")\n",
    "plt.plot(H.history['val_loss'], 'o-', label=\"val_loss\")\n",
    "plt.xlabel(\"epochs\")\n",
    "plt.ylabel(\"loss\")\n",
    "plt.title(\"loss vs epochs\")\n",
    "plt.legend();\n",
    "\n",
    "plt.subplot(1,2,2)\n",
    "plt.plot(H.history['acc'], 'o-', label=\"acc\")\n",
    "plt.plot(H.history['val_acc'], 'o-', label=\"val_acc\")\n",
    "plt.xlabel(\"epochs\")\n",
    "plt.ylabel(\"acc\")\n",
    "plt.title(\"Accuracy vs epochs\")\n",
    "plt.legend();"
   ]
  },
  {
   "cell_type": "markdown",
   "metadata": {},
   "source": [
    "## TASK 3 - Recognize your own writting / 自分の手書き数字の認識\n",
    "\n",
    "In the tests above the testing data was also from MNIST.\n",
    "<br>\n",
    "Let us now try to recognize some handwritten digits that are not from MNIST.\n",
    "\n",
    "今までは、トレーニングにもテストにもMNISTのデータを使っていました。\n",
    "<br>\n",
    "今度は自分が書いた手書きの数字を認識してみましょう。"
   ]
  },
  {
   "cell_type": "markdown",
   "metadata": {},
   "source": [
    "First load the network you want to test.\n",
    "\n",
    "まず試してみたいネットワークをロードします。"
   ]
  },
  {
   "cell_type": "code",
   "execution_count": 9,
   "metadata": {},
   "outputs": [],
   "source": [
    "network = load_model(\"my_best_network.hdf5\")"
   ]
  },
  {
   "cell_type": "markdown",
   "metadata": {},
   "source": [
    "Then, use the next cell  to draw a digit to test the classifier:\n",
    "- Draw in the middle of the dark area\n",
    "- The prediction is updated at each stroke\n",
    "- Use the clear button to erase\n",
    "\n",
    "Try the classification multiple times to empirically check the accuracy of the classifier.\n",
    "\n",
    "次に、次のセルを使って数字を描いて分類器をテストしてください。\n",
    " - 暗い領域の真ん中に描いて\n",
    " - 予測は各ストロークで更新されます\n",
    " - 消去するにはクリアボタンを使用してください\n",
    "\n",
    "分類器の精度を経験的に確認するために、分類を複数回試してください。"
   ]
  },
  {
   "cell_type": "code",
   "execution_count": 10,
   "metadata": {},
   "outputs": [
    {
     "data": {
      "application/vnd.jupyter.widget-view+json": {
       "model_id": "e6ab56e89fa04bd58348ae68ffaae1cc",
       "version_major": 2,
       "version_minor": 0
      },
      "text/plain": [
       "HBox(children=(DrawingPad(data=[[], [], []]), Button(description='Clear', style=ButtonStyle(), tooltip='Click …"
      ]
     },
     "metadata": {},
     "output_type": "display_data"
    }
   ],
   "source": [
    "from digit_classifier_widget import digit_classifier_widget\n",
    "    \n",
    "def run_classifier(X):\n",
    "    y_pred_one_hot = network.predict(X)\n",
    "    y_prediction = np.argmax(y_pred_one_hot)\n",
    "    return y_prediction\n",
    "    \n",
    "digit_classifier_widget(run_classifier, scaler)"
   ]
  },
  {
   "cell_type": "markdown",
   "metadata": {},
   "source": [
    "How does it compare to the SVM classifier from last week?\n",
    "<br>\n",
    "Write your impressions in the cell below. \n",
    "\n",
    "先週のSVM分類器と比べてどうでしょうか？\n",
    "<br>\n",
    "感想を下のセルに書いてください。"
   ]
  },
  {
   "cell_type": "markdown",
   "metadata": {},
   "source": [
    "#### WRITE ANSWER HERE\n",
    "以下は、各数字を５回ずつ書いた際の精度を示す表である。\n",
    "\n",
    "||  ０ |  1  | 2 | 3 | 4 | 5 | 6 | 7 | 8 | 9 |\n",
    "| ---- | ---- | ---- | ---- | ---- | ---- | ---- | ---- | ---- | ---- | ---- |\n",
    "| ACC |1.0 | 1.0 | 1.0 | 0.6 | 0.2 | 0.6 | 0.0 | 0.0 | 0.4 | 0.2 |\n",
    "\n",
    "\n",
    "SVMでは、0, 1しか正確に認識されていなかったが、\n",
    "今回はそれらに加えて２が正確に認識されているようである。\n",
    "また、３や5も書き方によってはうまく認識されることがわかる。"
   ]
  }
 ],
 "metadata": {
  "kernelspec": {
   "display_name": "Python 3",
   "language": "python",
   "name": "python3"
  },
  "language_info": {
   "codemirror_mode": {
    "name": "ipython",
    "version": 3
   },
   "file_extension": ".py",
   "mimetype": "text/x-python",
   "name": "python",
   "nbconvert_exporter": "python",
   "pygments_lexer": "ipython3",
   "version": "3.8.5"
  }
 },
 "nbformat": 4,
 "nbformat_minor": 2
}
