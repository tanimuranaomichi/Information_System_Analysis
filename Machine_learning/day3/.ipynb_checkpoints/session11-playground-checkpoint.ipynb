{
 "cells": [
  {
   "cell_type": "markdown",
   "metadata": {},
   "source": [
    "## Session11 - playground (optional)"
   ]
  },
  {
   "cell_type": "code",
   "execution_count": null,
   "metadata": {},
   "outputs": [],
   "source": [
    "# Usual imports\n",
    "import numpy as np\n",
    "import matplotlib as mpl\n",
    "import matplotlib.pyplot as plt\n",
    "    \n",
    "# Network building and training\n",
    "from tensorflow.keras.layers import Input, Conv2D, MaxPooling2D, Flatten, Dense, Dropout\n",
    "from tensorflow.keras.models import Model\n",
    "from tensorflow.keras.optimizers import Adam\n",
    "from tensorflow.keras.callbacks import ModelCheckpoint, EarlyStopping\n",
    "from tensorflow.keras.utils import to_categorical"
   ]
  },
  {
   "cell_type": "markdown",
   "metadata": {},
   "source": [
    "### Load and prepare the dataset / データを読み込んで準備する"
   ]
  },
  {
   "cell_type": "code",
   "execution_count": null,
   "metadata": {},
   "outputs": [],
   "source": [
    "from mnist_loader import MNISTImageLoader\n",
    "mnist_image_loader = MNISTImageLoader(43)\n",
    "X, y = mnist_image_loader.samples(70000)\n",
    "\n",
    "from sklearn.model_selection import train_test_split\n",
    "X_train, X_test, y_train, y_test  = train_test_split(X, y, test_size=0.5)\n",
    "\n",
    "# Limit the values in [0, 1]\n",
    "X_train = X_train / 255.0\n",
    "X_test = X_test / 255.0\n",
    "\n",
    "print(\"Training set size:\", X_train.shape)\n",
    "print(\"Testing set size:\", X_test.shape)"
   ]
  },
  {
   "cell_type": "markdown",
   "metadata": {},
   "source": [
    "<div style=\"background-color: #FFDDBB; padding: 10px;\">\n",
    "<b>REMINDER</b>: If you are getting strange errors when executing code with neural networks, make sure that you stopped or restarted the kernels in all other notebooks!\n",
    "    \n",
    "<b>注意</b>：ニューラルネットワークのコードを実行しているときに見知らぬエラーが発生した場合は、他のすべてのノートブックでカーネルを停止または再起動したかを確認してください！\n",
    "</div>\n"
   ]
  },
  {
   "cell_type": "markdown",
   "metadata": {},
   "source": [
    "## OPTIONAL 1\n",
    "Create a CNN to recognize MNIST digits. You can re-use the example CNN.\n",
    "<br>\n",
    "You should name your network `network`.\n",
    "\n",
    "\n",
    "MNISTの手書き数字を認識するCNNを作成してください。mainノートブックのサンプルCNNを再利用しても構いません。\n",
    "<br>\n",
    "ネットワークの変数の名前は`network`にしてください。"
   ]
  },
  {
   "cell_type": "code",
   "execution_count": null,
   "metadata": {},
   "outputs": [],
   "source": [
    "## YOUR CODE HERE"
   ]
  },
  {
   "cell_type": "markdown",
   "metadata": {},
   "source": [
    "## OPTIONAL 2\n",
    "- Split the data into a training set and a testing set. \n",
    "- Train again your CNN, using the testing set as validation data\n",
    "- Plot the evolution of the loss functions\n",
    "- Test the performance on the testing set (confusion matrix and accuracy)\n",
    "\n",
    "\n",
    "- MNISTデータセットをトレーニングセットとテストセットに分割する\n",
    "- テストセットを検証データ（`validation_data`引数）として使用し、CNNを再度トレーニングする\n",
    "- 損失関数の進化をプロットする\n",
    "- テストセットでパフォーマンスを確認する（混合行列と精度）"
   ]
  },
  {
   "cell_type": "code",
   "execution_count": null,
   "metadata": {},
   "outputs": [],
   "source": [
    "## YOUR CODE HERE"
   ]
  },
  {
   "cell_type": "markdown",
   "metadata": {},
   "source": [
    "## OPTIONAL 3\n",
    "- Test hand written digit recognition by running the next cell\n",
    "- Evaluate the performance of the network\n",
    "\n",
    "\n",
    "- 次のセルを実行して手書き数字の認識をテストする\n",
    "- ネットワークのパフォーマンスを評価する"
   ]
  },
  {
   "cell_type": "code",
   "execution_count": null,
   "metadata": {},
   "outputs": [],
   "source": [
    "from digit_classifier_widget import digit_classifier_widget\n",
    "    \n",
    "def run_classifier(X):\n",
    "    y_pred_one_hot = network.predict(X)\n",
    "    y_prediction = np.argmax(y_pred_one_hot)\n",
    "    return y_prediction\n",
    "    \n",
    "digit_classifier_widget(run_classifier, image_input=True)"
   ]
  },
  {
   "cell_type": "markdown",
   "metadata": {},
   "source": [
    "How does the preformance compare to the fully connected neural network?\n",
    "<br>\n",
    "Write your impressions in the cell below. \n",
    "\n",
    "全結合に比べて精度はどうでしょうか？\n",
    "<br>\n",
    "感想を下のセルに書いてください。"
   ]
  },
  {
   "cell_type": "markdown",
   "metadata": {},
   "source": [
    "#### WRITE ANSWER HERE\n",
    "\n"
   ]
  }
 ],
 "metadata": {
  "kernelspec": {
   "display_name": "Python 3",
   "language": "python",
   "name": "python3"
  },
  "language_info": {
   "codemirror_mode": {
    "name": "ipython",
    "version": 3
   },
   "file_extension": ".py",
   "mimetype": "text/x-python",
   "name": "python",
   "nbconvert_exporter": "python",
   "pygments_lexer": "ipython3",
   "version": "3.8.5"
  }
 },
 "nbformat": 4,
 "nbformat_minor": 2
}
