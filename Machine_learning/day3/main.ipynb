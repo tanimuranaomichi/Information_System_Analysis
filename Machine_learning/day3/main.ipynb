{
 "cells": [
  {
   "cell_type": "markdown",
   "metadata": {},
   "source": [
    "# Machine learning : Day 3 / 機械学習：3日目\n",
    "\n",
    "- Neural networks\n",
    "<br>\n",
    "- ニューラルネットワーク"
   ]
  },
  {
   "cell_type": "markdown",
   "metadata": {},
   "source": [
    "## Contents\n",
    "\n",
    "__Neural networks__\n",
    " \n",
    " 1. [Session 9: Neural networks - definition](session9-main.ipynb)\n",
    "\n",
    "      - [playground](session9-playground.ipynb)\n",
    "      \n",
    "      \n",
    " 2. [Session 10: Neural networks - training](session10-main.ipynb)\n",
    "\n",
    "      - [playground](session10-playground.ipynb)\n",
    "<br><br>      \n",
    "\n",
    " 3. [Session 11: Convolutional neural networks (optional)](session11-main.ipynb)\n",
    " \n",
    "     - [playground](session11-playground.ipynb)\n",
    "\n",
    "\n",
    " 4. [Session 12: Transfer learning (optional)](session12-main.ipynb)\n",
    "\n",
    "\n",
    "\n"
   ]
  }
 ],
 "metadata": {
  "kernelspec": {
   "display_name": "Python 3",
   "language": "python",
   "name": "python3"
  },
  "language_info": {
   "codemirror_mode": {
    "name": "ipython",
    "version": 3
   },
   "file_extension": ".py",
   "mimetype": "text/x-python",
   "name": "python",
   "nbconvert_exporter": "python",
   "pygments_lexer": "ipython3",
   "version": "3.8.5"
  }
 },
 "nbformat": 4,
 "nbformat_minor": 2
}
