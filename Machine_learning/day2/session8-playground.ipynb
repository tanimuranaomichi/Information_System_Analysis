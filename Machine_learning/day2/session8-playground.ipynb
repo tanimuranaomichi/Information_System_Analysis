{
 "cells": [
  {
   "cell_type": "markdown",
   "metadata": {},
   "source": [
    "## Session8 - playground"
   ]
  },
  {
   "cell_type": "markdown",
   "metadata": {},
   "source": [
    "## TASK 1: Prepare the gathered data / 収集したデータの準備\n",
    "\n",
    "- Write the collected data in a csv file\n",
    "- In each line write 3 values: class of commuting method (0 or 1), commuting distance, commuting time\n",
    "\n",
    "\n",
    "- 収集したデータをcsvファイルに書き込んでください。\n",
    "- 各行に次の3つの値を書いてください：通学・通勤方法のクラス（0または1）、距離、時間"
   ]
  },
  {
   "cell_type": "markdown",
   "metadata": {},
   "source": [
    "---\n",
    "\n",
    "Hint: you can create and edit the data file directly in Jupyter\n",
    "- open the dashboard and go to `day2`\n",
    "- create a new text file using the top right menu (`New->Text File`)\n",
    "- enter your data \n",
    "- rename the file (`File->Rename`)\n",
    "\n",
    "ヒント：Jupyterで直接データファイルを作成・編集することができます。\n",
    "- ダッシュボードを開き、`day2`を開く\n",
    "- 新しいテキストファイルを作成する（右上のメニューに`New->Text File`を選択）\n",
    "- データを入力する\n",
    "- ファイルの名前を変更する（`File->Rename`）\n",
    "\n",
    "---"
   ]
  },
  {
   "cell_type": "markdown",
   "metadata": {},
   "source": [
    "## TASK 2:  Read the data / データの読み込み\n",
    "\n",
    "Use the `genfromtxt` function as explained earlier.\n",
    "\n",
    "`genfromtxt`関数を使ってデータを変数に読み込んでください。"
   ]
  },
  {
   "cell_type": "code",
   "execution_count": 1,
   "metadata": {},
   "outputs": [
    {
     "name": "stdout",
     "output_type": "stream",
     "text": [
      "X has shape: (12,)\n",
      "y has shape: (12,)\n"
     ]
    }
   ],
   "source": [
    "import numpy as np\n",
    "\n",
    "D = np.genfromtxt('test_data.csv', delimiter=',')\n",
    "X = D[:,1]\n",
    "y = D[:,0]\n",
    "print(\"X has shape:\", X.shape)\n",
    "print(\"y has shape:\", y.shape)"
   ]
  },
  {
   "cell_type": "markdown",
   "metadata": {},
   "source": [
    "## TASK 3:  Train a classifier / 分類器をトレーニングする\n",
    "\n",
    "Train a classifier to estimate the commuting class (0 or 1) from just the commuting distance.\n",
    "<br>\n",
    "For example, you can use the LinearSVC classifier from last week.\n",
    "<br>\n",
    "(Don't forget to divide the data into training and test datasets.)\n",
    "\n",
    "通学・通勤距離のみから通勤クラス（0または1）を推定する分類器をトレーニングしてください。\n",
    "<br>\n",
    "たとえば、先週使っていたLinearSVC分類器を使用できます。\n",
    "<br>\n",
    "（まずはデータをトレーニング用とテスト用に分割することを忘れないでください）"
   ]
  },
  {
   "cell_type": "code",
   "execution_count": 2,
   "metadata": {},
   "outputs": [
    {
     "data": {
      "text/plain": [
       "LinearSVC()"
      ]
     },
     "execution_count": 2,
     "metadata": {},
     "output_type": "execute_result"
    }
   ],
   "source": [
    "from sklearn.model_selection import train_test_split\n",
    "from sklearn.preprocessing import StandardScaler\n",
    "from sklearn.svm import LinearSVC\n",
    "\n",
    "X_train, X_test, y_train, y_test  = train_test_split(X, y, test_size=0.3)\n",
    "X_train = X_train.reshape(-1, 1)\n",
    "X_test = X_test.reshape(-1, 1)\n",
    "\n",
    "scaler = StandardScaler()\n",
    "scaler.fit(X_train);\n",
    "\n",
    "X_train_raw = X_train\n",
    "X_train = scaler.transform(X_train_raw)\n",
    "X_test_raw = X_test\n",
    "X_test = scaler.transform(X_test_raw)\n",
    "\n",
    "linear_SVC = LinearSVC()\n",
    "linear_SVC.fit(X_train, y_train)"
   ]
  },
  {
   "cell_type": "markdown",
   "metadata": {},
   "source": [
    "## TASK 4:  Test the classifier / 分類器をテストする"
   ]
  },
  {
   "cell_type": "code",
   "execution_count": 3,
   "metadata": {},
   "outputs": [
    {
     "name": "stdout",
     "output_type": "stream",
     "text": [
      "Accuracy: 0.75\n"
     ]
    }
   ],
   "source": [
    "from sklearn.metrics import confusion_matrix\n",
    "\n",
    "y_pred = linear_SVC.predict(X_test)\n",
    "\n",
    "CM = confusion_matrix(y_test, y_pred)\n",
    "A = np.sum(np.diag(CM)) / np.sum(CM)\n",
    "print(\"Accuracy: {:.02f}\".format(A))"
   ]
  },
  {
   "cell_type": "markdown",
   "metadata": {},
   "source": [
    "## OPTIONAL 1\n",
    "\n",
    "Create a classifier that also uses the \"commuting time\" as a feature.\n",
    "\n",
    "「通学・通勤時間」も使用する分類器を作成してください。"
   ]
  },
  {
   "cell_type": "code",
   "execution_count": 4,
   "metadata": {},
   "outputs": [
    {
     "name": "stdout",
     "output_type": "stream",
     "text": [
      "X has shape: (12, 2)\n",
      "y has shape: (12,)\n",
      "Accuracy: 1.00\n"
     ]
    }
   ],
   "source": [
    "D = np.genfromtxt('test_data.csv', delimiter=',')\n",
    "X = D[:,1:]\n",
    "y = D[:,0]\n",
    "print(\"X has shape:\", X.shape)\n",
    "print(\"y has shape:\", y.shape)\n",
    "\n",
    "X_train, X_test, y_train, y_test  = train_test_split(X, y, test_size=0.3)\n",
    "\n",
    "scaler = StandardScaler()\n",
    "scaler.fit(X_train);\n",
    "\n",
    "X_train_raw = X_train\n",
    "X_train = scaler.transform(X_train_raw)\n",
    "X_test_raw = X_test\n",
    "X_test = scaler.transform(X_test_raw)\n",
    "\n",
    "linear_SVC = LinearSVC()\n",
    "linear_SVC.fit(X_train, y_train); \n",
    "\n",
    "y_pred = linear_SVC.predict(X_test)\n",
    "\n",
    "CM = confusion_matrix(y_test, y_pred)\n",
    "A = np.sum(np.diag(CM)) / np.sum(CM)\n",
    "print(\"Accuracy: {:.02f}\".format(A))"
   ]
  }
 ],
 "metadata": {
  "kernelspec": {
   "display_name": "Python 3",
   "language": "python",
   "name": "python3"
  },
  "language_info": {
   "codemirror_mode": {
    "name": "ipython",
    "version": 3
   },
   "file_extension": ".py",
   "mimetype": "text/x-python",
   "name": "python",
   "nbconvert_exporter": "python",
   "pygments_lexer": "ipython3",
   "version": "3.8.5"
  }
 },
 "nbformat": 4,
 "nbformat_minor": 2
}
