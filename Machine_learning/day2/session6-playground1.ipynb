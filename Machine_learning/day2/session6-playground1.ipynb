{
 "cells": [
  {
   "cell_type": "markdown",
   "metadata": {},
   "source": [
    "## Session6 - playground1"
   ]
  },
  {
   "cell_type": "markdown",
   "metadata": {},
   "source": [
    "We load the following from the saved file:\n",
    "- `X_test` ⇒ the test features\n",
    "- `y_test` ⇒ the test labels\n",
    "- `scaler` ⇒ the trained scaler\n",
    "- `sgd_classifier` ⇒ the trained classifier\n",
    "\n",
    "保存したファイルから以下を読み込みます。\n",
    "- `X_test` ⇒ テスト機能\n",
    "- `y_test` ⇒ テストラベル\n",
    "- `scaler` ⇒ トレーニングされたスケーラー\n",
    "- `sgd_classifier` ⇒ トレーニングされた分類器"
   ]
  },
  {
   "cell_type": "code",
   "execution_count": 1,
   "metadata": {},
   "outputs": [],
   "source": [
    "import gzip\n",
    "import pickle\n",
    "input_file = \"./data/mnist_classification.pkl.gz\"\n",
    "with gzip.open( input_file, \"rb\") as fp:\n",
    "    [X_test, y_test, scaler, sgd_classifier] = pickle.load(fp)"
   ]
  },
  {
   "cell_type": "markdown",
   "metadata": {},
   "source": [
    "When you run the next cell, you will be able to draw a digit to test the classifier:\n",
    "- Draw in the middle of the dark area\n",
    "- The prediction is updated at each stroke\n",
    "- Use the clear button to erase\n",
    "\n",
    "次のセルを実行すると、数字を自分で書いて分類器をテストできます。\n",
    "- 暗い領域の真ん中に書く\n",
    "- 予測は画ごとに更新される\n",
    "- Clearボタンを使用して消去できる"
   ]
  },
  {
   "cell_type": "code",
   "execution_count": 4,
   "metadata": {
    "scrolled": true
   },
   "outputs": [
    {
     "data": {
      "application/vnd.jupyter.widget-view+json": {
       "model_id": "ad9b980a189e468fb2313e65642253e0",
       "version_major": 2,
       "version_minor": 0
      },
      "text/plain": [
       "HBox(children=(DrawingPad(data=[[], [], []]), Button(description='Clear', style=ButtonStyle(), tooltip='Click …"
      ]
     },
     "metadata": {},
     "output_type": "display_data"
    }
   ],
   "source": [
    "from digit_classifier_widget import digit_classifier_widget\n",
    "    \n",
    "def run_classifier(X):\n",
    "    y_prediction = sgd_classifier.predict(X)[0] \n",
    "    return y_prediction\n",
    "    \n",
    "digit_classifier_widget(scaler, run_classifier)"
   ]
  },
  {
   "cell_type": "markdown",
   "metadata": {},
   "source": [
    "## TASK 1 \n",
    "- Try writing several digits to evaluate the performance of the classifier.\n",
    "    - How is the accuracy?\n",
    "    - Which digits are well recognized?\n",
    "    - Which digits are not well recognized?\n",
    "     \n",
    "Write your answer and comments in the cell below. \n",
    "\n",
    "<br>\n",
    "\n",
    "- 分類器の性能を評価するためにいくつかの数字を書いてみてください。\n",
    "     - 精度はどうですか？\n",
    "     - どの数字がよく認識されていますか？\n",
    "     - どの数字があまりよく認識されていませんか？\n",
    "     \n",
    "以下のセルの中に答えとコメントを書いてください。"
   ]
  },
  {
   "cell_type": "markdown",
   "metadata": {},
   "source": [
    "精度：悪い\n",
    "よく認識される数字：0, 1\n",
    "よく認識されない数字：2, 3, 4, 5, 6, 7, 8, 9"
   ]
  }
 ],
 "metadata": {
  "kernelspec": {
   "display_name": "Python 3",
   "language": "python",
   "name": "python3"
  },
  "language_info": {
   "codemirror_mode": {
    "name": "ipython",
    "version": 3
   },
   "file_extension": ".py",
   "mimetype": "text/x-python",
   "name": "python",
   "nbconvert_exporter": "python",
   "pygments_lexer": "ipython3",
   "version": "3.8.5"
  }
 },
 "nbformat": 4,
 "nbformat_minor": 2
}
