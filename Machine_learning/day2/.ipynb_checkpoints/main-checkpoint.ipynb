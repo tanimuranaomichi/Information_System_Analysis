{
 "cells": [
  {
   "cell_type": "markdown",
   "metadata": {},
   "source": [
    "# Machine learning : Day 2 / 機械学習：2日目\n",
    "\n",
    "- Data classification\n",
    "<br>\n",
    "- データの分類"
   ]
  },
  {
   "cell_type": "markdown",
   "metadata": {},
   "source": [
    "---\n",
    "\n",
    "Follow the Contents below in order.\n",
    "\n",
    "以下の内容を順番にやってください。"
   ]
  },
  {
   "cell_type": "markdown",
   "metadata": {},
   "source": [
    "## Contents / 内容\n",
    "\n",
    "[Machine learning short intro](ml_intro.ipynb)\n",
    "\n",
    "__Classification / 分類__\n",
    " \n",
    " 1. [Session 5: Flower classification](session5-main.ipynb)\n",
    "\n",
    "      - [playground](session5-playground.ipynb)\n",
    "\n",
    "\n",
    " 2. [Session 6: Digits classification](session6-main.ipynb)\n",
    " \n",
    "     - [playground 1](session6-playground1.ipynb)\n",
    "     - [playground 2 (optional)](session6-playground2.ipynb)\n",
    "     \n",
    " \n",
    " 3. [Session 7: Machine learning workflow summary](session7-main.ipynb)\n",
    "\n",
    "     - [playground (optional)](session7-playground.ipynb)\n",
    "     \n",
    "     \n",
    "__Classification of own data / 自分で収集したデータの分類__\n",
    "\n",
    " 1. [Session 8](session8-main.ipynb)\n",
    "\n",
    "     - [playground](session8-playground.ipynb)\n",
    "\n"
   ]
  }
 ],
 "metadata": {
  "kernelspec": {
   "display_name": "Python 3",
   "language": "python",
   "name": "python3"
  },
  "language_info": {
   "codemirror_mode": {
    "name": "ipython",
    "version": 3
   },
   "file_extension": ".py",
   "mimetype": "text/x-python",
   "name": "python",
   "nbconvert_exporter": "python",
   "pygments_lexer": "ipython3",
   "version": "3.8.5"
  }
 },
 "nbformat": 4,
 "nbformat_minor": 2
}
