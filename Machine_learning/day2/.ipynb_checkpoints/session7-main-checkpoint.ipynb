{
 "cells": [
  {
   "cell_type": "markdown",
   "metadata": {},
   "source": [
    "# Machine learning workflow summary / 機械学習ワークフローの概要"
   ]
  },
  {
   "cell_type": "markdown",
   "metadata": {},
   "source": [
    "In this section, we use one more example to summarize the machine learning workflow from start to end.\n",
    "\n",
    "When applying machine learning to a problem the main steps are typically:\n",
    "1. Getting the data\n",
    "2. Exploring the data\n",
    "3. Preparing the data for learning\n",
    "4. Trying (several) machine learning algorithms\n",
    "5. Choose the most appropriate algorithm, and when necessary fine tune it\n",
    "\n",
    "このセクションでは、更にもう1つの例を挙げて、機械学習ワークフローを最初から最後までの流れを説明します。\n",
    "\n",
    "問題に機械学習を適用する場合、主な手順は通常次のとおりです。\n",
    "1. データの取得\n",
    "2. データの探索・可視化\n",
    "3. 学習のためのデータの準備\n",
    "4. （いくつかの）機械学習アルゴリズムを試す\n",
    "5. 最も適切なアルゴリズムを選択し、必要に応じて微調整"
   ]
  },
  {
   "cell_type": "markdown",
   "metadata": {},
   "source": [
    "This is similar to the workflow that we used for the iris dataset and the MNIST dataset.\n",
    "\n",
    "上記は、アヤメのデータセットとMNISTデータセットに使用したワークフローと同様です。"
   ]
  },
  {
   "cell_type": "markdown",
   "metadata": {},
   "source": [
    "## 1. Getting the data / データの取得"
   ]
  },
  {
   "cell_type": "markdown",
   "metadata": {},
   "source": [
    "To train a classifier we need \"enough\" good examples, otherwise the classifier might not performs well.\n",
    "<br>\n",
    "Thus, the creation of the dataset is a very important, if not the most important, step in the machine learning workflow.\n",
    "\n",
    "Sometimes you might have data readily available. But frequently you will have to create the dataset yourself.\n",
    "<br>\n",
    "Creating a dataset by getting and labelling data is often _the most time (and money) consuming part_ of the machine learning workflow.\n",
    "\n",
    "分類子をトレーニングするには、「十分に」良い例が必要です。そうでない場合、分類のいい結果が出ない可能性があります。\n",
    "<br>\n",
    "したがって、データセットの作成は、機械学習ワークフローにおける非常に重要な段階です。\n",
    "\n",
    "データが手元にありすぐに利用できる場合があります。しかし、頻繁に自分でデータセットを作成する必要があります。\n",
    "<br>\n",
    "多くの場合、データを取得してラベルを付けることでデータセットを作成することは、機械学習ワークフローの_時間（およびお金）を最も多く消費する_段階です。"
   ]
  },
  {
   "cell_type": "markdown",
   "metadata": {},
   "source": [
    "Here we will use the wine quality dataset from https://archive.ics.uci.edu/ml/datasets/Wine. The direct link to the data file is: http://archive.ics.uci.edu/ml/machine-learning-databases/wine/wine.data (in CSV format). The dataset contains samples of 3 different wines (first value in each line), and their features (remaining 13 values - see the webpage for their descriptions).\n",
    "\n",
    "ここでは、https://archive.ics.uci.edu/ml/datasets/Wine にあるワインの種類のデータセットを使用します。ファイルへの直接リンクは、http://archive.ics.uci.edu/ml/machine-learning-databases/wine/wine.data （CSV形式）です。データセットには、3つの異なる種類のワインのサンプルが入っています。各行の最初の値はワインの種類、残りの13の値はそのサンプルで測定した特徴です。（特徴の説明についてはWebページを参照）"
   ]
  },
  {
   "cell_type": "markdown",
   "metadata": {},
   "source": [
    "The following command downloads the file. It should work on Mac and Linux, but it will not work on Windows! If it doesn't work, download the file manualy and save it to the same folder as this notebook (.../day2/).\n",
    "\n",
    "次のコマンドは、ファイルをダウンロードします。MacとLinuxでは動作するはずですが、Windowsでは動作しません。動作しない場合は、ファイルを手動でダウンロードし、このノートブックと同じフォルダ（... /day2/）に保存してください。"
   ]
  },
  {
   "cell_type": "code",
   "execution_count": 1,
   "metadata": {},
   "outputs": [
    {
     "name": "stdout",
     "output_type": "stream",
     "text": [
      "zsh:1: command not found: wget\r\n"
     ]
    }
   ],
   "source": [
    "!wget http://archive.ics.uci.edu/ml/machine-learning-databases/wine/wine.data"
   ]
  },
  {
   "cell_type": "markdown",
   "metadata": {},
   "source": [
    "Then load the data.\n",
    "\n",
    "そして、データを読み込みましょう。"
   ]
  },
  {
   "cell_type": "code",
   "execution_count": 2,
   "metadata": {},
   "outputs": [],
   "source": [
    "import numpy as np\n",
    "\n",
    "wine = np.genfromtxt('wine.data', delimiter=',')"
   ]
  },
  {
   "cell_type": "markdown",
   "metadata": {},
   "source": [
    "## 2. Exploring the data / データの探索"
   ]
  },
  {
   "cell_type": "markdown",
   "metadata": {},
   "source": [
    "Let's try plotting the data. This could give us a sense:\n",
    "- how difficult might be to classify this data, and \n",
    "- which features might be important.\n",
    "\n",
    "First let us check the 3 values for the wine type in the first column.\n",
    "\n",
    "データをプロットしてみましょう。それによって以下のことを理解しましょう。\n",
    "\n",
    "- このデータを分類するのがどれほど難しいか\n",
    "- どの特徴がより重要であるか\n",
    "\n",
    "最初に、第１列のワインの3つの書類の値を確認しましょう。"
   ]
  },
  {
   "cell_type": "code",
   "execution_count": 3,
   "metadata": {},
   "outputs": [
    {
     "data": {
      "text/plain": [
       "[<matplotlib.lines.Line2D at 0x12c859790>]"
      ]
     },
     "execution_count": 3,
     "metadata": {},
     "output_type": "execute_result"
    },
    {
     "data": {
      "image/png": "[encoded data removed]",
      "text/plain": [
       "<Figure size 432x288 with 1 Axes>"
      ]
     },
     "metadata": {
      "needs_background": "light"
     },
     "output_type": "display_data"
    }
   ],
   "source": [
    "import matplotlib as mpl\n",
    "import matplotlib.pyplot as plt\n",
    "\n",
    "plt.plot(wine[:,0])"
   ]
  },
  {
   "cell_type": "markdown",
   "metadata": {},
   "source": [
    "The values are 1, 2 and 3.\n",
    "<br>\n",
    "値は1、2、3です。\n",
    "\n",
    "We can now try plotting a feature. For example, let's see what values the last feature (proline) has for different wine types.\n",
    "<br>\n",
    "それでは、特徴をプロットしてみましょう。たとえば、一番最後の特徴（プロリン）がさまざまな種類のワインに対してどのような値を持つかを見てみましょう。"
   ]
  },
  {
   "cell_type": "code",
   "execution_count": null,
   "metadata": {},
   "outputs": [],
   "source": [
    "import matplotlib as mpl\n",
    "import matplotlib.pyplot as plt\n",
    "\n",
    "plt.plot(wine[wine[:,0] == 1,13], color=[1,0,0])\n",
    "plt.plot(wine[wine[:,0] == 2,13], color=[0,1,0])\n",
    "plt.plot(wine[wine[:,0] == 3,13], color=[0,0,1])\n",
    "plt.xlabel(\"sample\")\n",
    "plt.ylabel(\"proline\")"
   ]
  },
  {
   "cell_type": "markdown",
   "metadata": {},
   "source": [
    "Showing the histograms might be better.\n",
    "\n",
    "ヒストグラムを表示したほうがわかりやすいかもしれません。"
   ]
  },
  {
   "cell_type": "code",
   "execution_count": null,
   "metadata": {},
   "outputs": [],
   "source": [
    "plt.hist(wine[wine[:,0] == 1,13], histtype='step', color=[1, 0, 0], label=\"1\")\n",
    "plt.hist(wine[wine[:,0] == 2,13], histtype='step', color=[0, 1, 0], label=\"2\")\n",
    "plt.hist(wine[wine[:,0] == 3,13], histtype='step', color=[0, 0, 1], label=\"3\")\n",
    "plt.xlabel(\"proline\")\n",
    "plt.ylabel(\"count\")\n",
    "plt.title(\"Histogram of proline\")\n",
    "plt.legend()"
   ]
  },
  {
   "cell_type": "markdown",
   "metadata": {},
   "source": [
    "As you can see, proline has quite different values for wine type number 1, so it might be a useful feature for the classification.\n",
    "\n",
    "ご覧のように、ワイン種類1のプロリンの値は他の種類と随分異なるようです。そのため、分類に使えば役に立つと考えられます。"
   ]
  },
  {
   "cell_type": "markdown",
   "metadata": {},
   "source": [
    "## 3. Preparing the data / データの準備"
   ]
  },
  {
   "cell_type": "markdown",
   "metadata": {},
   "source": [
    "Create the training and testing datasets and standardize the data.\n",
    "\n",
    "トレーニングとテストのデータセットを作成し、データを標準化しましょう。"
   ]
  },
  {
   "cell_type": "code",
   "execution_count": null,
   "metadata": {},
   "outputs": [],
   "source": [
    "X = wine[:,1:] # features\n",
    "y = wine[:,0] # labels\n",
    "\n",
    "# split\n",
    "from sklearn.model_selection import train_test_split\n",
    "X_train, X_test, y_train, y_test  = train_test_split(X, y, test_size=0.3)\n",
    "\n",
    "print(\"X train size:\", X_train.shape[0], \"  X test size:\", X_test.shape[0])\n",
    "\n",
    "# standardize\n",
    "from sklearn.preprocessing import StandardScaler\n",
    "scaler = StandardScaler()\n",
    "scaler.fit(X_train)\n",
    "X_train = scaler.transform(X_train)\n",
    "X_test = scaler.transform(X_test)"
   ]
  },
  {
   "cell_type": "markdown",
   "metadata": {},
   "source": [
    "## 4. Training the classifer / 分類器の学習\n"
   ]
  },
  {
   "cell_type": "markdown",
   "metadata": {},
   "source": [
    "We will use another classifier provided by `sklearn`, a __Perceptron__ model from the package `sklearn.linear_model` ([documentation](https://scikit-learn.org/stable/modules/generated/sklearn.linear_model.Perceptron.html)).\n",
    "\n",
    "`sklearn`によって提供される別の分類器、パッケージ` sklearn.linear_model`からの__Perceptron__モデルを使用します（[ドキュメント](https://scikit-learn.org/stable/modules/generated/sklearn.linear_model.Perceptron.html)）。"
   ]
  },
  {
   "cell_type": "code",
   "execution_count": null,
   "metadata": {},
   "outputs": [],
   "source": [
    "from sklearn.linear_model import Perceptron\n",
    "perceptron = Perceptron()"
   ]
  },
  {
   "cell_type": "markdown",
   "metadata": {},
   "source": [
    "For training we use `fit` as in previously used classifiers (conviniently, all machine learning models in `sklearn` use the same functions).\n",
    "\n",
    "学習させるには、以前と同様に分類器の`fit`関数を使用します（`sklearn`のすべての機械学習モデルは同じ関数を使用しています）。"
   ]
  },
  {
   "cell_type": "code",
   "execution_count": null,
   "metadata": {},
   "outputs": [],
   "source": [
    "perceptron.fit(X_train, y_train);"
   ]
  },
  {
   "cell_type": "markdown",
   "metadata": {},
   "source": [
    "Now we can predict the label for the testing set in order to check if the classifier is good.\n",
    "\n",
    "これで、分類器が適切かどうかを確認するために、テストセットのラベルを予測できます。"
   ]
  },
  {
   "cell_type": "code",
   "execution_count": null,
   "metadata": {},
   "outputs": [],
   "source": [
    "y_pred = perceptron.predict(X_test)"
   ]
  },
  {
   "cell_type": "markdown",
   "metadata": {},
   "source": [
    "Let us compute the confusion matrix and print the accuracy.\n",
    "\n",
    "混同行列と精度も計算してみましょう。"
   ]
  },
  {
   "cell_type": "code",
   "execution_count": null,
   "metadata": {},
   "outputs": [],
   "source": [
    "from sklearn.metrics import confusion_matrix\n",
    "CM = confusion_matrix(y_test, y_pred)\n",
    "print(CM)"
   ]
  },
  {
   "cell_type": "code",
   "execution_count": null,
   "metadata": {},
   "outputs": [],
   "source": [
    "plt.imshow(CM)\n",
    "plt.xlabel(\"Predicted labels\")\n",
    "plt.ylabel(\"True labes\")\n",
    "plt.title(\"True vs predicted labels\")\n",
    "cbar = plt.colorbar()\n",
    "cbar.ax.set_title(\"#samples\", rotation=0);"
   ]
  },
  {
   "cell_type": "code",
   "execution_count": null,
   "metadata": {},
   "outputs": [],
   "source": [
    "from sklearn.metrics import accuracy_score\n",
    "A = accuracy_score(y_test,  y_pred)\n",
    "print(\"Accuracy = \", A)"
   ]
  },
  {
   "cell_type": "markdown",
   "metadata": {},
   "source": [
    "The data is relatively easy to classify, so we can get perfect accuracy or very close to that.\n",
    "\n",
    "データの分類は比較的簡単なので、完全な精度（100％）またはそれに近い精度を得ることができます。"
   ]
  },
  {
   "cell_type": "markdown",
   "metadata": {},
   "source": [
    "## 5. Choosing best classifier and fine tuning / 最適な分類器の選択と微調整\n",
    "\n",
    "\n",
    "Although we will not do it here for this simple problem, in a more complex machine learning task we would usually try multiple classifiers. \n",
    "<br>\n",
    "Moreover, for the best performing classifer we would try to change the classifier _hyperparameters_ to obtain the best performance.\n",
    "\n",
    "If you want to find more, we recommend that you read a good book on practical machine learning (some recommendations are in the [machine learning intro](ml_intro.ipynb) notebook).\n",
    "\n",
    "ここで使った簡単なデータセットでは行いませんが、より複雑な機械学習タスクでは、通常、複数の分類器を試します。\n",
    "<br>\n",
    "さらに、一番良いパフォーマンスの分類器については、分類器のパラメータ（いわゆる_ハイパーパラメーター_）を変更して最高のパフォーマンスを取得しようとします。\n",
    "\n",
    "もっと知りたい場合は、実践機械学習に関する本を読むことをお勧めします([機械学習のごく簡単な紹介](ml_intro.ipynb)ノートブックにいくつかの書籍を紹介しています)。"
   ]
  },
  {
   "cell_type": "markdown",
   "metadata": {},
   "source": [
    "## Try  it yourself ! / 自分で試そう！ (optional)\n",
    "\n",
    "[Click here](session7-playground.ipynb) to open a sample notebook to do the workflow on a different dataset that you choose.\n",
    "\n",
    "[ここをクリックして](session7-playground.ipynb)、サンプルのノートブックを開き、自分で選んだデータセットで機械学習のワークフローを試してください。"
   ]
  }
 ],
 "metadata": {
  "kernelspec": {
   "display_name": "Python 3",
   "language": "python",
   "name": "python3"
  },
  "language_info": {
   "codemirror_mode": {
    "name": "ipython",
    "version": 3
   },
   "file_extension": ".py",
   "mimetype": "text/x-python",
   "name": "python",
   "nbconvert_exporter": "python",
   "pygments_lexer": "ipython3",
   "version": "3.8.8"
  }
 },
 "nbformat": 4,
 "nbformat_minor": 2
}
