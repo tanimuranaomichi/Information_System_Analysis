{
 "cells": [
  {
   "cell_type": "markdown",
   "metadata": {},
   "source": [
    "# Classification of your data / 自分で作成したデータの分類\n",
    "\n",
    "In this session, we will apply machine learning to a concrete problem.\n",
    "\n",
    "__We want to predict how people commute to the university based on the information how far they live.__\n",
    "<br><br>\n",
    "\n",
    "このセッションでは、機械学習を具体的な問題に適用します。\n",
    "\n",
    "__住む場所までの距離という情報に基づいて、大学に通う方法を予測したい__"
   ]
  },
  {
   "cell_type": "markdown",
   "metadata": {},
   "source": [
    "We define two classes for commutation means:\n",
    "- class 0: only walking or cycling\n",
    "- class 1: riding a bus, a train or using personal car or motorbike (even if only part of the commute)\n",
    "\n",
    "Some examples:\n",
    "- \"Walking to a station, riding a train and walking from the arrival station to the university\" counts as class 1\n",
    "- \"Cycling to a parking and then walking\" counts as class 0\n",
    "- \"Cycling to a station, riding the train and walking to the univeristy\" counts as class 1\n",
    "<br><br>\n",
    "\n",
    "通学手段を2つのクラスを分けます。\n",
    " - クラス0：歩くまたは自転車だけで移動\n",
    " - クラス1：バス、電車、自動車、バイクを使用\n",
    "\n",
    "例：\n",
    " - 「駅まで歩いて電車に乗って到着駅から大学まで歩く」　⇒　クラス1\n",
    " - 「駐輪場まで自転車でいって、その後歩く」　⇒　クラス0\n",
    " - 「駅まで自転車で行って、電車に乗って、大学まで歩く」　⇒　クラス1"
   ]
  },
  {
   "cell_type": "markdown",
   "metadata": {},
   "source": [
    "### Data gathering / データ収集\n",
    "\n",
    "You should have gathered the data of 10 people about their commute.\n",
    "- how they commute\n",
    "- commuting distance\n",
    "- commuting time\n",
    "\n",
    "\n",
    "通学・通勤に関する以下の情報を10人以上の人から収集したと思います。\n",
    "- 通学・通勤方法\n",
    "- 通学・通勤距離\n",
    "- 通学・通勤時間"
   ]
  },
  {
   "cell_type": "markdown",
   "metadata": {},
   "source": [
    "#### Reminder - how to read csv data / csvファイルからデータの読み取り方\n",
    "\n",
    "As explained last week, we can use the `numpy` function `genfromtxt` to read data from a csv file. \n",
    "For example, the code below reads the data from the file `test_data.csv`, which contains 10 lines with 3 values separated by comma.\n",
    "\n",
    "先週説明したように、csvファイルからデータをnumpyの配列に読み込むためにgenfromtxt関数を使うことができます。たとえば、次のコードはtest_data.csvファイルからデータを読み取ります。ファイルには10行があり、それぞれ3つの値が入っています。"
   ]
  },
  {
   "cell_type": "code",
   "execution_count": 3,
   "metadata": {},
   "outputs": [
    {
     "name": "stdout",
     "output_type": "stream",
     "text": [
      "Shape of the data: (12, 3)\n",
      "The first row is: [ 1. 10. 60.]\n",
      "The last row is: [ 1.   8.5 30. ]\n"
     ]
    }
   ],
   "source": [
    "import numpy as np\n",
    "\n",
    "D = np.genfromtxt('test_data.csv', delimiter=',')\n",
    "\n",
    "print(\"Shape of the data:\", D.shape)\n",
    "print(\"The first row is:\", D[0,:])\n",
    "print(\"The last row is:\", D[-1,:])"
   ]
  },
  {
   "cell_type": "markdown",
   "metadata": {},
   "source": [
    "### Classification / 分類\n",
    "\n",
    "You will apply one classifier from the `sklearn` package to predict how people commute.\n",
    "\n",
    "`sklearn`パッケージからの分類方法を適用して、人の通学手段を予測します。"
   ]
  },
  {
   "cell_type": "markdown",
   "metadata": {},
   "source": [
    "## Let's do it ! / やりましょう！\n",
    "\n",
    "[Click here](session8-playground.ipynb) to open a sample notebook where you can read your data and train a classifer.\n",
    "\n",
    "[ここをクリックして](session8-playground.ipynb)、練習のノートブックを開いたらデータを読み、分類器を訓練することができます。"
   ]
  }
 ],
 "metadata": {
  "kernelspec": {
   "display_name": "Python 3",
   "language": "python",
   "name": "python3"
  },
  "language_info": {
   "codemirror_mode": {
    "name": "ipython",
    "version": 3
   },
   "file_extension": ".py",
   "mimetype": "text/x-python",
   "name": "python",
   "nbconvert_exporter": "python",
   "pygments_lexer": "ipython3",
   "version": "3.8.5"
  }
 },
 "nbformat": 4,
 "nbformat_minor": 2
}
