{
 "cells": [
  {
   "cell_type": "markdown",
   "metadata": {},
   "source": [
    "# Homework: Gather data / 宿題：データ収集"
   ]
  },
  {
   "cell_type": "markdown",
   "metadata": {},
   "source": [
    "Next week we will try doing the classifiaction on a dataset that you collect yourself.\n",
    "<br>\n",
    "For that, you will need to gather the data beforehand.\n",
    "\n",
    "来週は、自分で収集したデータセットで分類を試みます。\n",
    "<br>\n",
    "そのためには、事前にデータを収集する必要があります。"
   ]
  },
  {
   "cell_type": "markdown",
   "metadata": {},
   "source": [
    "## TASK\n",
    "\n",
    "To create your dataset, please ask people around you to tell you about their commute to the university or work.\n",
    "<br>\n",
    "You can ask as many people as you want, but there should be __at least 10 people__.\n",
    "\n",
    "For each person you need to find out:\n",
    "- how they commute: walking, cycling, riding the bus, train, car, etc. Can also be a combination of several means.\n",
    "- commuting distance: approximate distance from home to work/university (in kilometers)\n",
    "- commuting time: approximate time to commute (in minutes)\n",
    "\n",
    "Save this data into a text file and bring it to the next class. There is no need to submit it beforehand.\n",
    "\n",
    "<br>\n",
    "\n",
    "データセットを作成するには、周りの人に通学・通勤について尋ねてください。\n",
    "<br>\n",
    "__少なくとも10人__のデータが必要です。より多くの人のデータを収集しても構いません。\n",
    "\n",
    "それぞれの人から以下の情報を教えてもらいましょう。\n",
    "- 通学・通勤方法：徒歩、自転車、バス、電車、車など。いくつかの手段の組み合わせでも大丈夫です。\n",
    "- 通学・通勤距離：自宅から職場/大学までのおおよその距離（キロメートル単位）\n",
    "- 通学・通勤時間：通学・通勤にかかるだいたいの時間（分単位）\n",
    "\n",
    "データをテキストファイルに保存して、次の講義に持ってきてください。事前に提出する必要はありません。"
   ]
  }
 ],
 "metadata": {
  "kernelspec": {
   "display_name": "Python 3",
   "language": "python",
   "name": "python3"
  },
  "language_info": {
   "codemirror_mode": {
    "name": "ipython",
    "version": 3
   },
   "file_extension": ".py",
   "mimetype": "text/x-python",
   "name": "python",
   "nbconvert_exporter": "python",
   "pygments_lexer": "ipython3",
   "version": "3.8.5"
  }
 },
 "nbformat": 4,
 "nbformat_minor": 2
}
