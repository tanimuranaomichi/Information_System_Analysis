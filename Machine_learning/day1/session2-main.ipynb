{
 "cells": [
  {
   "cell_type": "markdown",
   "metadata": {},
   "source": [
    "# Numpy"
   ]
  },
  {
   "cell_type": "markdown",
   "metadata": {},
   "source": [
    "**NumPy** is a core library for scientific computing with Python. NumPy is centered around a powerful N-dimensional array object. \n",
    "<br>\n",
    "In this tutorial, the data will be contained in numpy arrays. We will mainly use 2-dimensional arrays (matrices).\n",
    "\n",
    "**NumPy**は、Python用の科学計算用のライブラリです。 NumPyはN次元配列オブジェクトを中心にしています。\n",
    "<br>\n",
    "この実習で使うデータはNumPy配列に入れます。主に2次元配列（行列）を使用します。\n",
    "\n",
    "To use numpy, you have to __import__ the `numpy` __package__ in your notebook in order to have access to the library.\n",
    "\n",
    "NumPyを使用するには、以下のように `numpy` __パッケージ__を__インポート__する必要があります。"
   ]
  },
  {
   "cell_type": "code",
   "execution_count": 1,
   "metadata": {
    "scrolled": true
   },
   "outputs": [],
   "source": [
    "import numpy as np"
   ]
  },
  {
   "cell_type": "markdown",
   "metadata": {},
   "source": [
    "Importing `numpy` with the alias `np` is a common practice in python. This alias will be used in all the notebooks. \n",
    "<br>\n",
    "(An alias is like a _new name_. Usually a shorter name so that it is easier to type.)\n",
    "\n",
    "エイリアス`np`を使用して`numpy`をインポートすることは、Pythonで一般的です。 このエイリアスは、すべてのノートブックで使用されます。\n",
    "<br>\n",
    "（エイリアスは_新しい名前_のようなものです。通常は入力しやすいように短い名前にします。）"
   ]
  },
  {
   "cell_type": "markdown",
   "metadata": {},
   "source": [
    "You can think of a matrix as a convenient way to represent and process the information contained in a table.\n",
    "<br>\n",
    "Let us consider the following table:\n",
    "\n",
    "行列は、テーブルに含まれる情報を表現するためな方法と考えられます。\n",
    "<br>\n",
    "次の表について考えてみましょう。\n",
    "\n",
    "| year |  2010 | 2011 | 2012 | 2013 | 2014 |\n",
    "| ---  |   --- |  --- |  --- |  --- |  --- |\n",
    "| cost per product |   7  |   6 | 5    |  4  |   5  |\n",
    "| number of products|   200|  250  | 300 | 150 | 200 | \n",
    "\n",
    "The corresponding matrix is a structure containing only the data:\n",
    "\n",
    "該当する行列は、データのみを含む構造です。\n",
    "\n",
    "$M = \\begin{bmatrix}\n",
    " 7 & 6 & 5 & 4 & 5\\\\\n",
    " 200 & 250 & 300 & 150 & 200\n",
    "\\end{bmatrix}$\n",
    "<br>\n",
    "\n",
    "The number of products in 2012 is in the third cell in the second row of the table.\n",
    "This correspond to the third element in the second row of $M$.\n",
    "<br>\n",
    "Using `numpy`'s notation, this matrix is written as:\n",
    "\n",
    "例えば、2012年の製品数は、表の2行目の3番目のセルに入っています。\n",
    "これは、$M$の2行目の3番目の要素に対応します。\n",
    "<br>\n",
    "`numpy`の表記を使用すると、この行列は次のように記述されます。\n",
    "\n",
    "M = [\n",
    "<br>\n",
    "[7, 6, 5, 4, 5],\n",
    "<br>\n",
    "[200, 250, 300, 150, 200]\n",
    "<br>\n",
    "]\n",
    "<br>\n",
    "\n",
    "and the third element in the second row is accessed by M[1,2] (by convention indexing starts at 0).\n",
    "\n",
    "そして、2行目の3番目の要素はM[1,2]によってアクセスできます（インデックスは0から始まります！）。"
   ]
  },
  {
   "cell_type": "markdown",
   "metadata": {},
   "source": [
    "Let us explain the numpy notation using the following matrix of size 2x4:\n",
    "\n",
    "サイズ2x4の次の行列を使用して、numpy表記について説明します。\n",
    "\n",
    "[\n",
    "<br>\n",
    "[0, 1, 2, 3],\n",
    "<br>\n",
    "[4, 5, 6, 7]\n",
    "<br>\n",
    "]\n",
    "\n",
    "The first row is [0, 1, 2, 3] and the second row is [4, 5, 6, 7].\n",
    "<br>\n",
    "To write a matrix in numpy, you can use the `array` keyword as follows:\n",
    "\n",
    "最初の行は[0、1、2、3]で、2番目の行は[4、5、6、7]です。\n",
    "<br>\n",
    "numpyで行列を書き込むには、次のように`array`キーワードを使用します。"
   ]
  },
  {
   "cell_type": "code",
   "execution_count": 2,
   "metadata": {
    "scrolled": true
   },
   "outputs": [
    {
     "data": {
      "text/plain": [
       "array([[0, 1, 2, 3],\n",
       "       [4, 5, 6, 7]])"
      ]
     },
     "execution_count": 2,
     "metadata": {},
     "output_type": "execute_result"
    }
   ],
   "source": [
    "np.array([\n",
    "    [0, 1, 2, 3], \n",
    "    [4, 5, 6, 7]\n",
    "])"
   ]
  },
  {
   "cell_type": "markdown",
   "metadata": {},
   "source": [
    "The following formatting is equivalent:\n",
    "\n",
    "改行する必要はありません。次のコードは上記と同じです。"
   ]
  },
  {
   "cell_type": "code",
   "execution_count": 3,
   "metadata": {
    "scrolled": true
   },
   "outputs": [
    {
     "data": {
      "text/plain": [
       "array([[0, 1, 2, 3],\n",
       "       [4, 5, 6, 7]])"
      ]
     },
     "execution_count": 3,
     "metadata": {},
     "output_type": "execute_result"
    }
   ],
   "source": [
    "np.array([[0, 1, 2, 3], [4, 5, 6, 7]])"
   ]
  },
  {
   "cell_type": "markdown",
   "metadata": {},
   "source": [
    "A numpy array is an object that can be assigned to a variable.\n",
    "\n",
    "numpy配列は、変数に割り当てることができます。"
   ]
  },
  {
   "cell_type": "code",
   "execution_count": 4,
   "metadata": {
    "scrolled": true
   },
   "outputs": [],
   "source": [
    "M = np.array([[0, 1, 2, 3], [4, 5, 6, 7]])"
   ]
  },
  {
   "cell_type": "markdown",
   "metadata": {},
   "source": [
    "In python, the function `type( )` gives you the type of an object. The variable `M` is a numpy array (`numpy.ndarray`).\n",
    "\n",
    "Pythonでは、関数`type( )`がオブジェクトのタイプを出力します。 変数`M`はnumpy配列です (`numpy.ndarray`)。"
   ]
  },
  {
   "cell_type": "code",
   "execution_count": 5,
   "metadata": {},
   "outputs": [
    {
     "name": "stdout",
     "output_type": "stream",
     "text": [
      "<class 'numpy.ndarray'>\n"
     ]
    }
   ],
   "source": [
    "print(type(M))"
   ]
  },
  {
   "cell_type": "markdown",
   "metadata": {},
   "source": [
    "#### Accessing array elements / 配列要素へのアクセス\n",
    "\n",
    "There are convenient ways to access a single element of a numpy array (note the indexing starting at 0):\n",
    "\n",
    "numpy配列の単一の要素に以下のうようにアクセスできます（インデックスが0から始まることに注意してください）。"
   ]
  },
  {
   "cell_type": "code",
   "execution_count": 6,
   "metadata": {
    "scrolled": true
   },
   "outputs": [
    {
     "name": "stdout",
     "output_type": "stream",
     "text": [
      "M[0,0]= 0\n",
      "M[0,1]= 1\n",
      "M[1,3]= 7\n"
     ]
    }
   ],
   "source": [
    "print(\"M[0,0]=\", M[0,0])\n",
    "print(\"M[0,1]=\", M[0,1])\n",
    "print(\"M[1,3]=\", M[1,3])"
   ]
  },
  {
   "cell_type": "markdown",
   "metadata": {},
   "source": [
    "or sub blocks of elements:\n",
    "\n",
    "要素のサブブロックの場合："
   ]
  },
  {
   "cell_type": "code",
   "execution_count": 7,
   "metadata": {
    "scrolled": true
   },
   "outputs": [
    {
     "name": "stdout",
     "output_type": "stream",
     "text": [
      "M[0:2,0]= [0 4]\n",
      "M[0,1:3]= [1 2]\n",
      "M[0:2,1:3]= [[1 2]\n",
      " [5 6]]\n"
     ]
    }
   ],
   "source": [
    "print(\"M[0:2,0]=\", M[0:2,0])\n",
    "print(\"M[0,1:3]=\", M[0,1:3])\n",
    "print(\"M[0:2,1:3]=\", M[0:2,1:3])"
   ]
  },
  {
   "cell_type": "markdown",
   "metadata": {},
   "source": [
    "It is possible to access the rows:\n",
    "\n",
    "行列の行にアクセス："
   ]
  },
  {
   "cell_type": "code",
   "execution_count": 8,
   "metadata": {
    "scrolled": true
   },
   "outputs": [
    {
     "name": "stdout",
     "output_type": "stream",
     "text": [
      "M[0,:]= [0 1 2 3]\n",
      "M[1,:]= [4 5 6 7]\n"
     ]
    }
   ],
   "source": [
    "print(\"M[0,:]=\", M[0,:])\n",
    "print(\"M[1,:]=\", M[1,:])"
   ]
  },
  {
   "cell_type": "markdown",
   "metadata": {},
   "source": [
    "or the columns:\n",
    "\n",
    "行列の列にアクセス："
   ]
  },
  {
   "cell_type": "code",
   "execution_count": 9,
   "metadata": {
    "scrolled": true
   },
   "outputs": [
    {
     "name": "stdout",
     "output_type": "stream",
     "text": [
      "M[:,0]= [0 4]\n",
      "M[:,1]= [1 5]\n",
      "M[:,2]= [2 6]\n",
      "M[:,3]= [3 7]\n"
     ]
    }
   ],
   "source": [
    "print(\"M[:,0]=\", M[:,0])\n",
    "print(\"M[:,1]=\", M[:,1])\n",
    "print(\"M[:,2]=\", M[:,2])\n",
    "print(\"M[:,3]=\", M[:,3])"
   ]
  },
  {
   "cell_type": "markdown",
   "metadata": {},
   "source": [
    "Note that:\n",
    "- the first index is `0` \n",
    "- the notation `i:j` means from index `i` to index `j-1`\n",
    "- the notation `:` means all the indices on that dimension\n",
    "\n",
    "\n",
    "注意点：\n",
    "- 最初のインデックスは`0`です\n",
    "- 表記`i:j`は、インデックス`i`からインデックス`j-1`までを意味します\n",
    "- 表記`:`は、その行または列のすべてのインデックスを意味します"
   ]
  },
  {
   "cell_type": "markdown",
   "metadata": {},
   "source": [
    "The notation `:` is also useful to split an array in two:\n",
    "- `:i` means from beginning up to element `i-1` \n",
    "- `i:` means from element `i` until the end\n",
    "\n",
    "表記`:`は、配列を2つに分割する場合にも役立ちます。\n",
    "- `:i`は最初から要素`i-1`までを意味します\n",
    "- `i:`は要素`i`から最後までを意味します"
   ]
  },
  {
   "cell_type": "code",
   "execution_count": 10,
   "metadata": {
    "scrolled": true
   },
   "outputs": [
    {
     "name": "stdout",
     "output_type": "stream",
     "text": [
      "M[0,:]= [0 1 2 3]\n",
      "M[0,:2]= [0 1]\n",
      "M[0,2:]= [2 3]\n"
     ]
    }
   ],
   "source": [
    "print(\"M[0,:]=\", M[0,:])\n",
    "print(\"M[0,:2]=\", M[0,:2])\n",
    "print(\"M[0,2:]=\", M[0,2:])"
   ]
  },
  {
   "cell_type": "markdown",
   "metadata": {},
   "source": [
    "For containing the indices it is possible to use a python list or a numpy array.\n",
    "\n",
    "インデックスはpythonリストまたはnumpy配列に入れることができます。"
   ]
  },
  {
   "cell_type": "code",
   "execution_count": 11,
   "metadata": {
    "scrolled": true
   },
   "outputs": [
    {
     "name": "stdout",
     "output_type": "stream",
     "text": [
      "M= [[0 1 2 3]\n",
      " [4 5 6 7]]\n",
      "l= [0, 2]\n",
      "M[0, l]= [0 2]\n",
      "i= [0 2]\n",
      "M[0, i]= [0 2]\n"
     ]
    }
   ],
   "source": [
    "print(\"M=\", M)\n",
    "\n",
    "# using python list / リストを使う\n",
    "l = [0, 2]\n",
    "print(\"l=\", l)\n",
    "print(\"M[0, l]=\", M[0, l])\n",
    "\n",
    "# using numpy array / numpy行列を使う\n",
    "i = np.array([0, 2])\n",
    "print(\"i=\", i)\n",
    "print(\"M[0, i]=\", M[0, i])"
   ]
  },
  {
   "cell_type": "markdown",
   "metadata": {},
   "source": [
    "NumPy arrays are not limited to 2 dimensions (a dimension is usually called an __axis__).\n",
    "\n",
    "NumPyでは３つ以上の次元の配列も使用できます（次元は通常__axis__（軸）と呼ばれます）。"
   ]
  },
  {
   "cell_type": "markdown",
   "metadata": {},
   "source": [
    "#### Functions with numpy arrays / numpy配列を使う関数\n",
    "\n",
    "A numpy array contains many useful member variables and functions.\n",
    "\n",
    "numpy配列には、多くの有用なメンバー変数と関数が含まれています。"
   ]
  },
  {
   "cell_type": "markdown",
   "metadata": {},
   "source": [
    "For example, the member `shape` contains the list of the axis lengths:\n",
    "\n",
    "たとえば、変数`shape`（形状）には軸の長さのリストが入っています。"
   ]
  },
  {
   "cell_type": "code",
   "execution_count": 12,
   "metadata": {
    "scrolled": true
   },
   "outputs": [
    {
     "data": {
      "text/plain": [
       "(2, 4)"
      ]
     },
     "execution_count": 12,
     "metadata": {},
     "output_type": "execute_result"
    }
   ],
   "source": [
    "M.shape"
   ]
  },
  {
   "cell_type": "markdown",
   "metadata": {},
   "source": [
    "Numpy provides several functions to create arrays using a shape parameter as input.\n",
    "<br>\n",
    "For example an array of zeros of size 3x2:\n",
    "\n",
    "形状パラメーターを入力として使用して配列を作成するためのいくつかの関数があります。\n",
    "<br>\n",
    "たとえば、すべての要素がゼロの配列（行列の大きさは5x2）。"
   ]
  },
  {
   "cell_type": "code",
   "execution_count": 13,
   "metadata": {
    "scrolled": true
   },
   "outputs": [
    {
     "data": {
      "text/plain": [
       "array([[0., 0.],\n",
       "       [0., 0.],\n",
       "       [0., 0.]])"
      ]
     },
     "execution_count": 13,
     "metadata": {},
     "output_type": "execute_result"
    }
   ],
   "source": [
    "np.zeros((3,2))"
   ]
  },
  {
   "cell_type": "markdown",
   "metadata": {},
   "source": [
    "or an array of ones of size 5x2:\n",
    "\n",
    "または要素がすべて1の配列（大きさは5x2）。"
   ]
  },
  {
   "cell_type": "code",
   "execution_count": 14,
   "metadata": {
    "scrolled": true
   },
   "outputs": [
    {
     "data": {
      "text/plain": [
       "array([[1., 1.],\n",
       "       [1., 1.],\n",
       "       [1., 1.],\n",
       "       [1., 1.],\n",
       "       [1., 1.]])"
      ]
     },
     "execution_count": 14,
     "metadata": {},
     "output_type": "execute_result"
    }
   ],
   "source": [
    "np.ones((5,2))"
   ]
  },
  {
   "cell_type": "markdown",
   "metadata": {},
   "source": [
    "Numpy arrays are not limited to two __axes__:\n",
    "\n",
    "３次元の配列の作り方"
   ]
  },
  {
   "cell_type": "code",
   "execution_count": 15,
   "metadata": {
    "scrolled": true
   },
   "outputs": [
    {
     "name": "stdout",
     "output_type": "stream",
     "text": [
      "A before:\n",
      " [[[0. 0. 0.]\n",
      "  [0. 0. 0.]]\n",
      "\n",
      " [[0. 0. 0.]\n",
      "  [0. 0. 0.]]]\n",
      "A after:\n",
      " [[[0. 0. 0.]\n",
      "  [0. 0. 0.]]\n",
      "\n",
      " [[0. 0. 0.]\n",
      "  [5. 0. 0.]]]\n"
     ]
    }
   ],
   "source": [
    "A = np.zeros((2, 2, 3))\n",
    "print(\"A before:\\n\", A)\n",
    "A[1, 1, 0] = 5\n",
    "print(\"A after:\\n\", A)"
   ]
  },
  {
   "cell_type": "markdown",
   "metadata": {},
   "source": [
    "Many common functions for matrices are implemented.\n",
    "For example, the function `mean()` gives you the mean value.\n",
    "\n",
    "行列の多くの一般的な関数が実装されています。\n",
    "たとえば、関数`mean()`は平均値を提供します。"
   ]
  },
  {
   "cell_type": "code",
   "execution_count": 16,
   "metadata": {
    "scrolled": false
   },
   "outputs": [
    {
     "name": "stdout",
     "output_type": "stream",
     "text": [
      "3.5\n"
     ]
    }
   ],
   "source": [
    "# Mean value computed on all elements / すべての要素の平均値\n",
    "print(M.mean())"
   ]
  },
  {
   "cell_type": "code",
   "execution_count": 17,
   "metadata": {
    "scrolled": false
   },
   "outputs": [
    {
     "name": "stdout",
     "output_type": "stream",
     "text": [
      "[2. 3. 4. 5.]\n"
     ]
    }
   ],
   "source": [
    "# Columns means computed along the rows / 列の平均\n",
    "column_means = M.mean(axis=0)\n",
    "print(column_means)"
   ]
  },
  {
   "cell_type": "code",
   "execution_count": 18,
   "metadata": {
    "scrolled": true
   },
   "outputs": [
    {
     "name": "stdout",
     "output_type": "stream",
     "text": [
      "<class 'numpy.ndarray'>\n"
     ]
    }
   ],
   "source": [
    "# This is also a numpy array / 関数の結果もNumpyの配列です\n",
    "print(type(column_means))"
   ]
  },
  {
   "cell_type": "code",
   "execution_count": 19,
   "metadata": {
    "scrolled": true
   },
   "outputs": [
    {
     "name": "stdout",
     "output_type": "stream",
     "text": [
      "(4,)\n"
     ]
    }
   ],
   "source": [
    "# Shape of column_means / 列の平均の形状\n",
    "print(column_means.shape)"
   ]
  },
  {
   "cell_type": "code",
   "execution_count": 20,
   "metadata": {
    "scrolled": false
   },
   "outputs": [
    {
     "name": "stdout",
     "output_type": "stream",
     "text": [
      "[1.5 5.5]\n",
      "(2,)\n"
     ]
    }
   ],
   "source": [
    "# Row means computed along the columns / 行の平均\n",
    "row_means = M.mean(axis=1)\n",
    "print(row_means)\n",
    "print(row_means.shape)"
   ]
  },
  {
   "cell_type": "markdown",
   "metadata": {},
   "source": [
    "Note that it is also possible to use the `mean` and other functions of the` numpy` package itself. The result is the same as using the functions of the object.\n",
    "<br>\n",
    "`numpy`パッケージ自体の`mean`などの関数を使用することもできます。得られる結果はオブジェクトの関数を使用した場合と同じです。"
   ]
  },
  {
   "cell_type": "code",
   "execution_count": 21,
   "metadata": {
    "scrolled": true
   },
   "outputs": [
    {
     "data": {
      "text/plain": [
       "array([2., 3., 4., 5.])"
      ]
     },
     "execution_count": 21,
     "metadata": {},
     "output_type": "execute_result"
    }
   ],
   "source": [
    "np.mean(M, axis=0)"
   ]
  },
  {
   "cell_type": "markdown",
   "metadata": {},
   "source": [
    "Numpy arrays support element wise operations.\n",
    "<br>\n",
    "Numpy配列で要素ごとの演算ができます。"
   ]
  },
  {
   "cell_type": "code",
   "execution_count": 22,
   "metadata": {
    "scrolled": true
   },
   "outputs": [
    {
     "name": "stdout",
     "output_type": "stream",
     "text": [
      "[ 8. 11. 14. 17.]\n",
      "[ 0  5 12 21]\n"
     ]
    }
   ],
   "source": [
    "row_0 = M[0,:]\n",
    "row_1 = M[1,:]\n",
    "print(row_0 + 2.0 * row_1)\n",
    "print(row_0 * row_1)"
   ]
  },
  {
   "cell_type": "markdown",
   "metadata": {},
   "source": [
    "Note that `*` is an element-wise product.\n",
    "<br>\n",
    "`*`は要素ごとの積であることに注意してください。\n",
    "\n",
    "The dot product can be calculated like this.\n",
    "<br>\n",
    "内積は次のように計算できます。"
   ]
  },
  {
   "cell_type": "code",
   "execution_count": 23,
   "metadata": {
    "scrolled": true
   },
   "outputs": [
    {
     "name": "stdout",
     "output_type": "stream",
     "text": [
      "38\n"
     ]
    }
   ],
   "source": [
    "print(row_0.dot(row_1))\n",
    "# or / または\n",
    "# print(np.dot(row_0, row_1))"
   ]
  },
  {
   "cell_type": "markdown",
   "metadata": {},
   "source": [
    "Numpy arrays support many more operations.\n",
    "<br>\n",
    "These simple data manipulations will be combined with other functions during the practice.\n",
    "\n",
    "Numpy配列はさらに多くの操作をサポートしています。\n",
    "<br>\n",
    "実習ではこれらの単純な関数を組み合わさることによってデータ処理を行います。"
   ]
  },
  {
   "cell_type": "markdown",
   "metadata": {},
   "source": [
    "#### Example with data loading from file / ファイルからデータ読み取りを使った例\n",
    "\n",
    "For illustration we will use the \"iris dataset\".\n",
    "<br>\n",
    "The dataset contains a set of 150 records with five attributes: flower type, sepal length and width, petal length and width.\n",
    "\n",
    "説明のために、「アヤメのデータセット」を使用します。\n",
    "<br>\n",
    "データセットには花の測定データが150含まれています。それぞれの花に対して次の5つのデータが入っています：花の種類、がく（萼）の長さと幅、花びらの長さと幅。\n",
    "<br><br>\n",
    "\n",
    "<center>\n",
    "    <img src=\"./img/petal-sepal.jpg\" width=\"160\"> Petal (花びら) and sepal (がく)\n",
    "</center>\n",
    "<br>\n",
    "There are 50 samples from each of the 3 following species of flowers.\n",
    "\n",
    "次の3種類の花からそれぞれ50のサンプルがあります。\n",
    "<br><br>\n",
    "\n",
    "<center>\n",
    "<img style=\"display:inline\" src=\"./img/Iris_setosa.jpg\" width=\"100\"> Iris setosa (ヒオウギアヤメ)\n",
    "<img style=\"display:inline\" src=\"./img/iris_versiclor.jpg\" width=\"100\"> Iris versicolor (ブルーフラッグ)\n",
    "<img style=\"display:inline\" src=\"./img/Iris_virginica.jpg\" width=\"100\"> Iris virginica (バージニカ)\n",
    "</center>"
   ]
  },
  {
   "cell_type": "markdown",
   "metadata": {},
   "source": [
    "Let us load the iris dataset from the file `iris_data.csv`. (_csv_ stands for _comma separated values_).\n",
    "<br>\n",
    "The file contains one record per line with entries: flower type, sepal length, sepal width, petal length, petal width\n",
    "<br>\n",
    "(The lengths are measured in centimeters.)\n",
    "\n",
    "ファイル`iris_data.csv`からアヤメのデータを読みだしてみましょう。 （_csv_ は _comma separated values（カンマ区切り値）_の省略です）。\n",
    "<br>\n",
    "ファイルには、それぞれの行に1つの花の記録が入っています。値が次の順番で書かれています：花の種類、がくの長さ、がくの幅、花びらの長さ、花びらの幅\n",
    "<br>\n",
    "（長さはセンチメートルで表しています。）\n",
    "\n",
    "Here are the first lines of the file / ファイルの最初の行は次のとおりです\n",
    "<br>\n",
    "0.0,5.1,3.5,1.4,0.2\n",
    "<br>\n",
    "0.0,4.9,3.0,1.4,0.2\n",
    "<br>\n",
    "0.0,4.7,3.2,1.3,0.2\n",
    "<br>\n",
    "0.0,4.6,3.1,1.5,0.2\n",
    "<br>\n",
    "..."
   ]
  },
  {
   "cell_type": "markdown",
   "metadata": {},
   "source": [
    "To read the values from a file we can use the function `genfromtxt` from `numpy` .\n",
    "\n",
    "ファイルから値を読み取るには、`numpy`の関数`genfromtxt`を使用できます。"
   ]
  },
  {
   "cell_type": "code",
   "execution_count": 24,
   "metadata": {
    "scrolled": true
   },
   "outputs": [],
   "source": [
    "iris = np.genfromtxt('iris_data.csv', delimiter=',')"
   ]
  },
  {
   "cell_type": "markdown",
   "metadata": {},
   "source": [
    "Now, the variable `iris` contains the iris dataset. The variable is a numpy array.\n",
    "\n",
    "これで、変数 `iris`にはアヤメのデータセットが入っています。変数はnumpy配列です。"
   ]
  },
  {
   "cell_type": "code",
   "execution_count": 25,
   "metadata": {
    "scrolled": true
   },
   "outputs": [
    {
     "data": {
      "text/plain": [
       "numpy.ndarray"
      ]
     },
     "execution_count": 25,
     "metadata": {},
     "output_type": "execute_result"
    }
   ],
   "source": [
    "type(iris)"
   ]
  },
  {
   "cell_type": "markdown",
   "metadata": {},
   "source": [
    "There are 150 rows and 5 columns.\n",
    "\n",
    "150行と5列があります。"
   ]
  },
  {
   "cell_type": "code",
   "execution_count": 26,
   "metadata": {
    "scrolled": true
   },
   "outputs": [
    {
     "data": {
      "text/plain": [
       "(150, 5)"
      ]
     },
     "execution_count": 26,
     "metadata": {},
     "output_type": "execute_result"
    }
   ],
   "source": [
    "iris.shape"
   ]
  },
  {
   "cell_type": "markdown",
   "metadata": {},
   "source": [
    "Summary of the data structure / データ構造の概要\n",
    "\n",
    "     1.花のタイプ\n",
    "     2.がく片の長さ\n",
    "     3.がく片の幅\n",
    "     4.花びらの長さ\n",
    "     5.花びらの幅\n",
    "\n",
    "-。\n",
    "     -アイリスセトサの場合は50（0）\n",
    "     -アイリスバーシクラー用50（1）\n",
    "     -50はアイリスヴァージニカ（2）\n",
    "\n",
    "- Each row corresponds to one data point and contains five values / 各行は1つのサンプルに対応し、5つの値が含まれます:\n",
    "    1. flower type / 花の種類\n",
    "    2. sepal length / がくの長さ\n",
    "    3. sepal width / がくの幅\n",
    "    4. petal length / 花びらの長さ\n",
    "    5. petal width / 花びらの幅\n",
    "- Each of the species has 50 data points / それぞれの花の種類には50のサンプルがあります\n",
    "    - 0 = iris setosa / ヒオウギアヤメ\n",
    "    - 1 = iris versiclor / ブルーフラッグ\n",
    "    - 2 = iris virginica / バージニカ"
   ]
  },
  {
   "cell_type": "markdown",
   "metadata": {},
   "source": [
    "Let us print the data / データをプリントしてみましょう"
   ]
  },
  {
   "cell_type": "code",
   "execution_count": 27,
   "metadata": {
    "scrolled": false
   },
   "outputs": [
    {
     "name": "stdout",
     "output_type": "stream",
     "text": [
      "[[0.  5.1 3.5 1.4 0.2]\n",
      " [0.  4.9 3.  1.4 0.2]\n",
      " [0.  4.7 3.2 1.3 0.2]\n",
      " [0.  4.6 3.1 1.5 0.2]\n",
      " [0.  5.  3.6 1.4 0.2]\n",
      " [0.  5.4 3.9 1.7 0.4]\n",
      " [0.  4.6 3.4 1.4 0.3]\n",
      " [0.  5.  3.4 1.5 0.2]\n",
      " [0.  4.4 2.9 1.4 0.2]\n",
      " [0.  4.9 3.1 1.5 0.1]\n",
      " [0.  5.4 3.7 1.5 0.2]\n",
      " [0.  4.8 3.4 1.6 0.2]\n",
      " [0.  4.8 3.  1.4 0.1]\n",
      " [0.  4.3 3.  1.1 0.1]\n",
      " [0.  5.8 4.  1.2 0.2]\n",
      " [0.  5.7 4.4 1.5 0.4]\n",
      " [0.  5.4 3.9 1.3 0.4]\n",
      " [0.  5.1 3.5 1.4 0.3]\n",
      " [0.  5.7 3.8 1.7 0.3]\n",
      " [0.  5.1 3.8 1.5 0.3]\n",
      " [0.  5.4 3.4 1.7 0.2]\n",
      " [0.  5.1 3.7 1.5 0.4]\n",
      " [0.  4.6 3.6 1.  0.2]\n",
      " [0.  5.1 3.3 1.7 0.5]\n",
      " [0.  4.8 3.4 1.9 0.2]\n",
      " [0.  5.  3.  1.6 0.2]\n",
      " [0.  5.  3.4 1.6 0.4]\n",
      " [0.  5.2 3.5 1.5 0.2]\n",
      " [0.  5.2 3.4 1.4 0.2]\n",
      " [0.  4.7 3.2 1.6 0.2]\n",
      " [0.  4.8 3.1 1.6 0.2]\n",
      " [0.  5.4 3.4 1.5 0.4]\n",
      " [0.  5.2 4.1 1.5 0.1]\n",
      " [0.  5.5 4.2 1.4 0.2]\n",
      " [0.  4.9 3.1 1.5 0.1]\n",
      " [0.  5.  3.2 1.2 0.2]\n",
      " [0.  5.5 3.5 1.3 0.2]\n",
      " [0.  4.9 3.1 1.5 0.1]\n",
      " [0.  4.4 3.  1.3 0.2]\n",
      " [0.  5.1 3.4 1.5 0.2]\n",
      " [0.  5.  3.5 1.3 0.3]\n",
      " [0.  4.5 2.3 1.3 0.3]\n",
      " [0.  4.4 3.2 1.3 0.2]\n",
      " [0.  5.  3.5 1.6 0.6]\n",
      " [0.  5.1 3.8 1.9 0.4]\n",
      " [0.  4.8 3.  1.4 0.3]\n",
      " [0.  5.1 3.8 1.6 0.2]\n",
      " [0.  4.6 3.2 1.4 0.2]\n",
      " [0.  5.3 3.7 1.5 0.2]\n",
      " [0.  5.  3.3 1.4 0.2]\n",
      " [1.  7.  3.2 4.7 1.4]\n",
      " [1.  6.4 3.2 4.5 1.5]\n",
      " [1.  6.9 3.1 4.9 1.5]\n",
      " [1.  5.5 2.3 4.  1.3]\n",
      " [1.  6.5 2.8 4.6 1.5]\n",
      " [1.  5.7 2.8 4.5 1.3]\n",
      " [1.  6.3 3.3 4.7 1.6]\n",
      " [1.  4.9 2.4 3.3 1. ]\n",
      " [1.  6.6 2.9 4.6 1.3]\n",
      " [1.  5.2 2.7 3.9 1.4]\n",
      " [1.  5.  2.  3.5 1. ]\n",
      " [1.  5.9 3.  4.2 1.5]\n",
      " [1.  6.  2.2 4.  1. ]\n",
      " [1.  6.1 2.9 4.7 1.4]\n",
      " [1.  5.6 2.9 3.6 1.3]\n",
      " [1.  6.7 3.1 4.4 1.4]\n",
      " [1.  5.6 3.  4.5 1.5]\n",
      " [1.  5.8 2.7 4.1 1. ]\n",
      " [1.  6.2 2.2 4.5 1.5]\n",
      " [1.  5.6 2.5 3.9 1.1]\n",
      " [1.  5.9 3.2 4.8 1.8]\n",
      " [1.  6.1 2.8 4.  1.3]\n",
      " [1.  6.3 2.5 4.9 1.5]\n",
      " [1.  6.1 2.8 4.7 1.2]\n",
      " [1.  6.4 2.9 4.3 1.3]\n",
      " [1.  6.6 3.  4.4 1.4]\n",
      " [1.  6.8 2.8 4.8 1.4]\n",
      " [1.  6.7 3.  5.  1.7]\n",
      " [1.  6.  2.9 4.5 1.5]\n",
      " [1.  5.7 2.6 3.5 1. ]\n",
      " [1.  5.5 2.4 3.8 1.1]\n",
      " [1.  5.5 2.4 3.7 1. ]\n",
      " [1.  5.8 2.7 3.9 1.2]\n",
      " [1.  6.  2.7 5.1 1.6]\n",
      " [1.  5.4 3.  4.5 1.5]\n",
      " [1.  6.  3.4 4.5 1.6]\n",
      " [1.  6.7 3.1 4.7 1.5]\n",
      " [1.  6.3 2.3 4.4 1.3]\n",
      " [1.  5.6 3.  4.1 1.3]\n",
      " [1.  5.5 2.5 4.  1.3]\n",
      " [1.  5.5 2.6 4.4 1.2]\n",
      " [1.  6.1 3.  4.6 1.4]\n",
      " [1.  5.8 2.6 4.  1.2]\n",
      " [1.  5.  2.3 3.3 1. ]\n",
      " [1.  5.6 2.7 4.2 1.3]\n",
      " [1.  5.7 3.  4.2 1.2]\n",
      " [1.  5.7 2.9 4.2 1.3]\n",
      " [1.  6.2 2.9 4.3 1.3]\n",
      " [1.  5.1 2.5 3.  1.1]\n",
      " [1.  5.7 2.8 4.1 1.3]\n",
      " [2.  6.3 3.3 6.  2.5]\n",
      " [2.  5.8 2.7 5.1 1.9]\n",
      " [2.  7.1 3.  5.9 2.1]\n",
      " [2.  6.3 2.9 5.6 1.8]\n",
      " [2.  6.5 3.  5.8 2.2]\n",
      " [2.  7.6 3.  6.6 2.1]\n",
      " [2.  4.9 2.5 4.5 1.7]\n",
      " [2.  7.3 2.9 6.3 1.8]\n",
      " [2.  6.7 2.5 5.8 1.8]\n",
      " [2.  7.2 3.6 6.1 2.5]\n",
      " [2.  6.5 3.2 5.1 2. ]\n",
      " [2.  6.4 2.7 5.3 1.9]\n",
      " [2.  6.8 3.  5.5 2.1]\n",
      " [2.  5.7 2.5 5.  2. ]\n",
      " [2.  5.8 2.8 5.1 2.4]\n",
      " [2.  6.4 3.2 5.3 2.3]\n",
      " [2.  6.5 3.  5.5 1.8]\n",
      " [2.  7.7 3.8 6.7 2.2]\n",
      " [2.  7.7 2.6 6.9 2.3]\n",
      " [2.  6.  2.2 5.  1.5]\n",
      " [2.  6.9 3.2 5.7 2.3]\n",
      " [2.  5.6 2.8 4.9 2. ]\n",
      " [2.  7.7 2.8 6.7 2. ]\n",
      " [2.  6.3 2.7 4.9 1.8]\n",
      " [2.  6.7 3.3 5.7 2.1]\n",
      " [2.  7.2 3.2 6.  1.8]\n",
      " [2.  6.2 2.8 4.8 1.8]\n",
      " [2.  6.1 3.  4.9 1.8]\n",
      " [2.  6.4 2.8 5.6 2.1]\n",
      " [2.  7.2 3.  5.8 1.6]\n",
      " [2.  7.4 2.8 6.1 1.9]\n",
      " [2.  7.9 3.8 6.4 2. ]\n",
      " [2.  6.4 2.8 5.6 2.2]\n",
      " [2.  6.3 2.8 5.1 1.5]\n",
      " [2.  6.1 2.6 5.6 1.4]\n",
      " [2.  7.7 3.  6.1 2.3]\n",
      " [2.  6.3 3.4 5.6 2.4]\n",
      " [2.  6.4 3.1 5.5 1.8]\n",
      " [2.  6.  3.  4.8 1.8]\n",
      " [2.  6.9 3.1 5.4 2.1]\n",
      " [2.  6.7 3.1 5.6 2.4]\n",
      " [2.  6.9 3.1 5.1 2.3]\n",
      " [2.  5.8 2.7 5.1 1.9]\n",
      " [2.  6.8 3.2 5.9 2.3]\n",
      " [2.  6.7 3.3 5.7 2.5]\n",
      " [2.  6.7 3.  5.2 2.3]\n",
      " [2.  6.3 2.5 5.  1.9]\n",
      " [2.  6.5 3.  5.2 2. ]\n",
      " [2.  6.2 3.4 5.4 2.3]\n",
      " [2.  5.9 3.  5.1 1.8]]\n"
     ]
    }
   ],
   "source": [
    "print(iris)"
   ]
  },
  {
   "cell_type": "markdown",
   "metadata": {},
   "source": [
    "## Try  it yourself ! / 自分で試そう！\n",
    "\n",
    "[Click here](session2-playground.ipynb) to open a sample notebook and test some data manipulation\n",
    "\n",
    "[ここをクリックして](session2-playground.ipynb)サンプルのノートブックを開いて、データ処理を試してみてください"
   ]
  }
 ],
 "metadata": {
  "kernelspec": {
   "display_name": "Python 3",
   "language": "python",
   "name": "python3"
  },
  "language_info": {
   "codemirror_mode": {
    "name": "ipython",
    "version": 3
   },
   "file_extension": ".py",
   "mimetype": "text/x-python",
   "name": "python",
   "nbconvert_exporter": "python",
   "pygments_lexer": "ipython3",
   "version": "3.8.5"
  }
 },
 "nbformat": 4,
 "nbformat_minor": 2
}
