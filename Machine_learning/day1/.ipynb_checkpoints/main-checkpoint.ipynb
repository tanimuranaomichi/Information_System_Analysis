{
 "cells": [
  {
   "cell_type": "markdown",
   "metadata": {},
   "source": [
    "# Machine learning : Day 1 / 機械学習：1日目\n",
    "\n",
    "- Tools (Jupyter, Numpy, Matplotlib)\n",
    "- Data preprocessing\n",
    "<br>\n",
    "\n",
    "- ツール（Jupyter、Numpy、Matplotlib）\n",
    "- データの前処理"
   ]
  },
  {
   "cell_type": "markdown",
   "metadata": {},
   "source": [
    "--- \n",
    "\n",
    "## Prerequisites / 予習\n",
    "\n",
    "We will assume that all students know the basics of Python programming.\n",
    "<br>\n",
    "If you never worked in Python or are not confident in your Python skills, we suggest that you go through a tutorial, such  as the ones listed below.\n",
    "\n",
    "受講生にPythonのプログラミングに関する初歩の知識があることを前提にします。\n",
    "<br>\n",
    "これまでにプログラミングをあまりしたことがない場合、Pythonは使ったことがない場合や自身が無い場合、下のチュートリアルなどによる自習をお勧めします。\n",
    "\n",
    "- The official Python tutorial (you should know the contents until section 4.6, the rest is optional /  Python公式チュートリアル (セクション4.6までの内容の理解が必要です): https://docs.python.org/3.8/tutorial/\n",
    "- Tutorialspoint (from beginning until Lists, plus basics about Functions and Modules; the rest is optional / 最初の項目から「Lists」までと「Functions」「Modules」の項目):  https://www.tutorialspoint.com/python/index.htm\n",
    "- 【Only japanese】京都大学 データ科学イノベーション教育研究センターが提供しているPython演習 入門編： https://kubar.rd.iimc.kyoto-u.ac.jp/intro_python/\n",
    "- 【Only japanese】Chainerが提供しているチュートリアル（2.9クラスは不要）： https://tutorials.chainer.org/ja/02_Basics_of_Python.html\n",
    "\n",
    "\n",
    "---"
   ]
  },
  {
   "cell_type": "markdown",
   "metadata": {},
   "source": [
    "Follow the Contents below in order. \n",
    "<br>\n",
    "Start by choosing the _Session 1: Jupyter_.\n",
    "<br>\n",
    "When you finish Session 1, come back here and start Session 2, and so on.\n",
    "\n",
    "以下の「内容」を順番にやってください。\n",
    "<br>\n",
    "まずは _Session 1: Jupyter_ を選択してください。\n",
    "<br>\n",
    "セッション1が終了したら、ここに戻ってセッション2を開始し、順番に全てのセッションをやってください。"
   ]
  },
  {
   "cell_type": "markdown",
   "metadata": {},
   "source": [
    "## Contents / 内容\n",
    "\n",
    "__Tools / ツール__\n",
    "\n",
    " 1. [Session 1: Jupyter](session1-main.ipynb)\n",
    "\n",
    "     - [playground 1](session1-playground1.ipynb)\n",
    "     - [playground 2](session1-playground2.ipynb)\n",
    "     \n",
    "\n",
    " 2. [Session 2: Numpy](session2-main.ipynb)  \n",
    "\n",
    "     - [playground](session2-playground.ipynb)\n",
    "\n",
    "\n",
    " 3. [Session 3: Matplotlib](session3-main.ipynb)\n",
    " \n",
    "     - [playground 1](session3-playground1.ipynb)\n",
    "     - [playground 2](session3-playground2.ipynb)\n",
    "\n",
    "__Data preprocessing / データの前処理__\n",
    " \n",
    " 1. [Session 4](session4-main.ipynb)\n",
    "\n",
    "      - [playground](session4-playground.ipynb)\n",
    "     \n",
    "__Homework / 宿題__:\n",
    "\n",
    "  - [Gather data / データ収集](homework-day1.ipynb)\n"
   ]
  }
 ],
 "metadata": {
  "kernelspec": {
   "display_name": "Python 3",
   "language": "python",
   "name": "python3"
  },
  "language_info": {
   "codemirror_mode": {
    "name": "ipython",
    "version": 3
   },
   "file_extension": ".py",
   "mimetype": "text/x-python",
   "name": "python",
   "nbconvert_exporter": "python",
   "pygments_lexer": "ipython3",
   "version": "3.8.5"
  }
 },
 "nbformat": 4,
 "nbformat_minor": 2
}
