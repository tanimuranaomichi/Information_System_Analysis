{
 "cells": [
  {
   "cell_type": "markdown",
   "metadata": {},
   "source": [
    "## Session1 - playground1"
   ]
  },
  {
   "cell_type": "markdown",
   "metadata": {},
   "source": [
    "## TASK 1\n",
    "\n",
    "- Try clicking on this cell or other cells in the notebook. Notice the blue border which shows which cell is selected.\n",
    "- Select this cell and press `Enter` to edit it (or double-click on the cell). Notice that the border is now green, meaning you are in edit mode.\n",
    "<br><br>\n",
    "- このセルまたはノートブックの他のセルをクリックしてみてください。選択されているセルが青い線で現れています。\n",
    "- このセルを選択し、Enterキーを押して（またはセルをダブルクリックして）編集します。編集モードに入いるので、マージンが緑色になります。\n",
    "<br><br>\n",
    "- Try typing some text here / ここにテキストを入力してみてください\n",
    "\n",
    "はじめまして。\n",
    "\n",
    "- When you are done run this cell: press `Ctrl-Enter` or use the top menu's [Run] button.\n",
    "- 書き終わりましたら、このセルを実行してください。`Ctrl-Enter`を押すか、トップメニューの[Run]ボタンを使用します。\n",
    "\n",
    "Note: Each cell keeps a history so you can undo changes with `Ctrl-z` (when in edit mode)\n",
    "\n",
    "注：各セルは履歴を保持しているため、`Ctrl-z`で変更を元に戻すことができます（編集モードに入っている場合）。"
   ]
  },
  {
   "cell_type": "markdown",
   "metadata": {},
   "source": [
    "## TASK 2\n",
    "\n",
    "- Select this cell and create a new cell bellow it: use the menu \"+\" button or shortcut key `b` (while in command mode).\n",
    "- Change it to be a formatted text cell using the menu dropdown list or the shortcut `m` (command mode)\n",
    "- Type some text\n",
    "- Run the cell using `Shift-Enter` (notice that it creates a new cell below it)\n",
    "<br><br>\n",
    "- このセルを選択してから、その下に新しいセルを作成してください。メニューの[+]ボタンまたはショートカットキー`b`を使用できます（コマンドモードに入っているとき）。\n",
    "- メニュードロップダウンリストを使用して、フォーマットされたテキスト（Markdown）セルに変更してください。\n",
    "- テキストを入力してください\n",
    "- `Shift-Enter`を使用してセルを実行してください（その下に新しいセルが作成される）"
   ]
  },
  {
   "cell_type": "markdown",
   "metadata": {},
   "source": [
    "- こんにちは。"
   ]
  },
  {
   "cell_type": "code",
   "execution_count": null,
   "metadata": {},
   "outputs": [],
   "source": []
  }
 ],
 "metadata": {
  "kernelspec": {
   "display_name": "Python 3",
   "language": "python",
   "name": "python3"
  },
  "language_info": {
   "codemirror_mode": {
    "name": "ipython",
    "version": 3
   },
   "file_extension": ".py",
   "mimetype": "text/x-python",
   "name": "python",
   "nbconvert_exporter": "python",
   "pygments_lexer": "ipython3",
   "version": "3.8.5"
  }
 },
 "nbformat": 4,
 "nbformat_minor": 2
}
